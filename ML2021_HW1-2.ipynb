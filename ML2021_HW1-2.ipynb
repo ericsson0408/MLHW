{
  "nbformat": 4,
  "nbformat_minor": 0,
  "metadata": {
    "colab": {
      "provenance": [],
      "collapsed_sections": [
        "mz0_QVkxCrX3",
        "Jx3x1nDkG-Uy",
        "wS_4-77xHk44",
        "BtE3b6JEH7rw",
        "0up7noQ5JoCr",
        "TQ-MdwpLL7Dt",
        "AlhTlkE7MDo3",
        "xIEz5gHSyKnf",
        "DvFWVjZ5Nvga",
        "MAM8QecJOyqn",
        "6j1eOV3TOH-j"
      ]
    },
    "kernelspec": {
      "name": "python3",
      "display_name": "Python 3"
    },
    "accelerator": "GPU"
  },
  "cells": [
    {
      "cell_type": "markdown",
      "metadata": {
        "id": "mz0_QVkxCrX3"
      },
      "source": [
        "# **Homework 1: COVID-19 Cases Prediction (Regression)**"
      ]
    },
    {
      "cell_type": "markdown",
      "metadata": {
        "id": "ZeZnPAiwDRWG"
      },
      "source": [
        "Author: Heng-Jui Chang\n",
        "\n",
        "Slides: https://github.com/ga642381/ML2021-Spring/blob/main/HW01/HW01.pdf  \n",
        "Videos (Mandarin): https://cool.ntu.edu.tw/courses/4793/modules/items/172854  \n",
        "https://cool.ntu.edu.tw/courses/4793/modules/items/172853  \n",
        "\n",
        "Objectives:\n",
        "* Solve a regression problem with deep neural networks (DNN).\n",
        "* Understand basic DNN training tips.\n",
        "* Get familiar with PyTorch.\n",
        "\n"
      ]
    },
    {
      "cell_type": "markdown",
      "metadata": {
        "id": "Jx3x1nDkG-Uy"
      },
      "source": [
        "# **Download Data**\n",
        "\n",
        "\n",
        "If the Google drive links are dead, you can download data from [kaggle](https://www.kaggle.com/c/ml2021spring-hw1/data), and upload data manually to the workspace."
      ]
    },
    {
      "cell_type": "code",
      "metadata": {
        "colab": {
          "base_uri": "https://localhost:8080/"
        },
        "id": "tMj55YDKG6ch",
        "outputId": "50bb875b-542a-4a35-b39f-d4a40d8ab9ef"
      },
      "source": [
        "!gdown --id 1Ah5uV6cu3Bnz6WfkUuxEZCLqj5k1lbpd\n",
        "\n",
        "#這兩行程式是設定訓練資料（training data）與測試資料（testinlg data）的檔案名稱。後續載入資料時會使用這兩個變數。\n",
        "tr_path = 'covid.train.csv'  # path to training data\n",
        "tt_path = 'covid.test.csv'   # path to testing data\n",
        "\n",
        "#這行使用 gdown 這個工具（可從 Google Drive 下載檔案）來：\n",
        "#從 Google Drive 上的檔案 ID 為 '19CCyCgJrUxtvgZF53vnctJiOJ23T5mqF' 下載檔案\n",
        "#儲存為本地檔案 covid.train.csv這就是訓練資料檔案。\n",
        "!gdown --id '19CCyCgJrUxtvgZF53vnctJiOJ23T5mqF' --output covid.train.csv\n",
        "!gdown --id '1CE240jLm2npU-tdz81-oVKEF3T2yfT1O' --output covid.test.csv"
      ],
      "execution_count": null,
      "outputs": [
        {
          "output_type": "stream",
          "name": "stdout",
          "text": [
            "/usr/local/lib/python3.11/dist-packages/gdown/__main__.py:140: FutureWarning: Option `--id` was deprecated in version 4.3.1 and will be removed in 5.0. You don't need to pass it anymore to use a file ID.\n",
            "  warnings.warn(\n",
            "Downloading...\n",
            "From: https://drive.google.com/uc?id=1Ah5uV6cu3Bnz6WfkUuxEZCLqj5k1lbpd\n",
            "To: /content/ML2025Spring-hw2-public.zip\n",
            "100% 621k/621k [00:00<00:00, 126MB/s]\n",
            "/usr/local/lib/python3.11/dist-packages/gdown/__main__.py:140: FutureWarning: Option `--id` was deprecated in version 4.3.1 and will be removed in 5.0. You don't need to pass it anymore to use a file ID.\n",
            "  warnings.warn(\n",
            "Downloading...\n",
            "From: https://drive.google.com/uc?id=19CCyCgJrUxtvgZF53vnctJiOJ23T5mqF\n",
            "To: /content/covid.train.csv\n",
            "100% 2.00M/2.00M [00:00<00:00, 36.6MB/s]\n",
            "/usr/local/lib/python3.11/dist-packages/gdown/__main__.py:140: FutureWarning: Option `--id` was deprecated in version 4.3.1 and will be removed in 5.0. You don't need to pass it anymore to use a file ID.\n",
            "  warnings.warn(\n",
            "Downloading...\n",
            "From: https://drive.google.com/uc?id=1CE240jLm2npU-tdz81-oVKEF3T2yfT1O\n",
            "To: /content/covid.test.csv\n",
            "100% 651k/651k [00:00<00:00, 147MB/s]\n"
          ]
        }
      ]
    },
    {
      "cell_type": "markdown",
      "metadata": {
        "id": "wS_4-77xHk44"
      },
      "source": [
        "# **Import Some Packages**"
      ]
    },
    {
      "cell_type": "code",
      "metadata": {
        "id": "k-onQd4JNA5H"
      },
      "source": [
        "# 這三行是 PyTorch 的核心模組，功能如下：\n",
        "# torch: Tensor 操作、模型計算等的主要工具\n",
        "# torch.nn: 提供深度學習中常用的神經網路層（如 Linear、ReLU 等）\n",
        "# Dataset 與 DataLoader: 處理自定義資料集與小批量資料的迭代器（batch training）\n",
        "import torch\n",
        "import torch.nn as nn\n",
        "from torch.utils.data import Dataset, DataLoader\n",
        "\n",
        "# 這些套件是用來進行前處理的：\n",
        "# numpy: 常用的數值運算（例如標準化、矩陣操作）\n",
        "# csv: 處理 .csv 格式資料的原始方法\n",
        "# os: 處理路徑與檔案操作，例如檢查檔案是否存在等\n",
        "import numpy as np\n",
        "import csv\n",
        "import os\n",
        "\n",
        "# 這部分是用來畫圖，常用於：\n",
        "# 損失函數（loss）或準確率（accuracy）的變化圖\n",
        "# 模型訓練過程的視覺化\n",
        "# 結果的展示（例如模型預測 vs 真實值）\n",
        "import matplotlib.pyplot as plt\n",
        "from matplotlib.pyplot import figure\n",
        "\n",
        "\n",
        "# 這段非常關鍵，用來確保模型訓練的結果可重現。說明如下：\n",
        "# myseed = 42069：自訂的亂數種子值\n",
        "\n",
        "# 許多 GPU 上的高效運算（例如 convolution、pooling）會有多種演算法實作。\n",
        "# cuDNN/CUDA 會根據當下硬體條件挑選最快的方式，但有些實作是非確定性的。\n",
        "# 這意味著：相同輸入 ➜ 有可能產生不同輸出。\n",
        "# torch.backends.cudnn.deterministic = True：強制 cudnn 使用確定性算法（可重現但可能較慢）\n",
        "# torch.backends.cudnn.benchmark = False：禁用動態最佳化（因為會導致不可預測性）\n",
        "# np.random.seed(myseed)：固定 NumPy 的隨機性\n",
        "# torch.manual_seed(myseed)：固定 CPU 上的 PyTorch 隨機性\n",
        "# torch.cuda.manual_seed_all(myseed)：若使用 GPU，固定 GPU 上的隨機性\n",
        "\n",
        "# 為什麼要設定 seed？\n",
        "# 深度學習過程中，許多步驟都涉及隨機性，例如：\n",
        "# 權重初始化 -> 每層的 weight 隨機生成\n",
        "# 資料增強 / 抽樣順序 -> 每個 epoch shuffle\n",
        "# dropout -> 每次會隨機遮掉神經元\n",
        "# batchnorm -> 依據 batch 計算 mean/std\n",
        "# torch.randn / np.random.randn -> 明確的亂數產生\n",
        "\n",
        "myseed = 42077\n",
        "torch.backends.cudnn.deterministic = True\n",
        "torch.backends.cudnn.benchmark = False\n",
        "np.random.seed(myseed)\n",
        "torch.manual_seed(myseed)\n",
        "if torch.cuda.is_available():\n",
        "    torch.cuda.manual_seed_all(myseed)"
      ],
      "execution_count": null,
      "outputs": []
    },
    {
      "cell_type": "markdown",
      "metadata": {
        "id": "BtE3b6JEH7rw"
      },
      "source": [
        "# **Some Utilities**\n",
        "\n",
        "You do not need to modify this part."
      ]
    },
    {
      "cell_type": "code",
      "metadata": {
        "id": "FWMT3uf1NGQp"
      },
      "source": [
        "#Get device (if GPU is available, use GPU)\n",
        "def get_device():\n",
        "    return 'cuda' if torch.cuda.is_available() else 'cpu'\n",
        "\n",
        "#畫出訓練過程中的 Train Loss vs Dev Loss（驗證損失）曲線\n",
        "#Train Loss（訓練損失）：模型在訓練資料（training set）上的平均誤差。\n",
        "#Dev Loss（開發集損失）：模型在驗證資料（validation set，也叫 dev set）上的平均誤差。\n",
        "#每個 epoch 結束後，使用 model.eval() + torch.no_grad() 在驗證集上預測，然後計算損失。\n",
        "def plot_learning_curve(loss_record, title=''):\n",
        "    total_steps = len(loss_record['train'])\n",
        "    x_1 = range(total_steps)\n",
        "    x_2 = x_1[::len(loss_record['train']) // len(loss_record['dev'])]\n",
        "    figure(figsize=(6, 4))\n",
        "    plt.plot(x_1, loss_record['train'], c='tab:red', label='train')\n",
        "    plt.plot(x_2, loss_record['dev'], c='tab:cyan', label='dev')\n",
        "    plt.ylim(0.0, 5.)\n",
        "    plt.xlabel('Training steps')\n",
        "    plt.ylabel('MSE loss')\n",
        "    plt.title('Learning curve of {}'.format(title))\n",
        "    plt.legend()\n",
        "    plt.show()\n",
        "\n",
        "\n",
        "\n",
        "from sklearn.metrics import r2_score, mean_squared_error\n",
        "\n",
        "#畫出模型預測值 vs 真實值（ground truth）的散佈圖，幫助你視覺化預測準確度\n",
        "#紅點越靠近藍線 → 預測越準確\n",
        "#點均勻分布在藍線兩側且無明顯偏離趨勢 → 模型沒有系統性誤差（bias）\n",
        "def plot_pred(dv_set, model, device, lim=35., preds=None, targets=None):\n",
        "    if preds is None or targets is None:\n",
        "        model.eval()\n",
        "        preds, targets = [], []\n",
        "        for x, y in dv_set:\n",
        "            x, y = x.to(device), y.to(device)\n",
        "            with torch.no_grad():\n",
        "                pred = model(x)\n",
        "                preds.append(pred.detach().cpu())\n",
        "                targets.append(y.detach().cpu())\n",
        "        preds = torch.cat(preds, dim=0).numpy()\n",
        "        targets = torch.cat(targets, dim=0).numpy()\n",
        "\n",
        "    figure(figsize=(5, 5))\n",
        "    plt.scatter(targets, preds, c='r', alpha=0.5)\n",
        "    plt.plot([-0.2, lim], [-0.2, lim], c='b')\n",
        "    plt.xlim(-0.2, lim)\n",
        "    plt.ylim(-0.2, lim)\n",
        "    plt.xlabel('ground truth value')\n",
        "    plt.ylabel('predicted value')\n",
        "    plt.title('Ground Truth v.s. Prediction')\n",
        "    ###\n",
        "    r2 = r2_score(targets, preds)\n",
        "    mse = mean_squared_error(targets, preds)\n",
        "    plt.text(2, 32, f'R²: {r2:.3f}\\nMSE: {mse:.3f}', fontsize=12, bbox=dict(facecolor='white', alpha=0.8))\n",
        "    ####\n",
        "    plt.show()"
      ],
      "execution_count": null,
      "outputs": []
    },
    {
      "cell_type": "markdown",
      "metadata": {
        "id": "39U_XFX6KOoj"
      },
      "source": [
        "# **Preprocess**\n",
        "\n",
        "We have three kinds of datasets:\n",
        "* `train`: for training\n",
        "* `dev`: for validation\n",
        "* `test`: for testing (w/o target value)"
      ]
    },
    {
      "cell_type": "markdown",
      "source": [
        "## Feature Selection"
      ],
      "metadata": {
        "id": "0up7noQ5JoCr"
      }
    },
    {
      "cell_type": "markdown",
      "source": [
        "⚠️ 1. 特徵過多導致訓練效率低下\n",
        "\n",
        "若有大量結構化特徵（如實驗數據、Vitals、ICD codes），仍可能因維度過高造成訓練困難，這時 feature selection 可以減少 noise。\n",
        "\n",
        "⚠️ 2. 資料樣本數不夠時\n",
        "\n",
        "深度模型在小樣本下容易 overfitting，這時減少特徵維度能提升泛化能力。\n",
        "\n",
        "⚠️ 3. 可解釋性需求高時\n",
        "\n",
        "醫療領域常需要解釋模型決策，這時預先挑選關鍵特徵有助於後續模型詮釋。"
      ],
      "metadata": {
        "id": "FXAiniabxcoP"
      }
    },
    {
      "cell_type": "markdown",
      "source": [
        "###Feature Selection Explain"
      ],
      "metadata": {
        "id": "n2yPzvgUxg-n"
      }
    },
    {
      "cell_type": "markdown",
      "source": [
        "這段程式碼是導入 Scikit-learn（sklearn） 套件中與「特徵選擇與標準化」有關的模組，常用於資料前處理與降維。\n",
        "\n",
        "📌 from sklearn.feature_selection import SelectKBest\n",
        "這是導入一個特徵選擇工具：\n",
        "\n",
        "🎯 功能：從全部特徵中選出前 K 個「與目標變數最相關」的特徵\n",
        "這是進行降維與特徵工程常見的第一步，可幫助：\n",
        "移除不相關/冗餘特徵\n",
        "降低過擬合風險\n",
        "提升模型訓練效率與可解釋性\n",
        "\n",
        "📌 from sklearn.feature_selection import f_regression\n",
        "這是 SelectKBest 所需的 打分機制（scoring function）。\n",
        "\n",
        "🎯 功能：對每個數值型特徵計算與連續型目標（回歸任務）間的線性關聯性（F 分數）\n",
        "底層使用 ANOVA F-test，分數越高代表該特徵對目標值影響越大。\n",
        "\n",
        "📌 from sklearn import preprocessing\n",
        "這是導入 sklearn 中常用的資料前處理模組，裡面包含許多工具，例如：\n",
        "\n",
        "| 常用功能       | 用途                                  |\n",
        "|----------------|---------------------------------------|\n",
        "| StandardScaler | Z-score 標準化（均值 0、標準差 1）    |\n",
        "| MinMaxScaler   | 將數據縮放到 0～1 區間                |\n",
        "| LabelEncoder   | 將分類標籤轉為數字                    |\n",
        "| OneHotEncoder  | 類別變數轉為 one-hot                  |\n",
        "\n",
        "➡️ 可用來進行正規化、標準化、特徵轉換等操作。\n",
        "\n",
        "SelectKBest(f_regression) 挑出 對目標變數影響最大的前幾個特徵。\n",
        "✅ 根據 F-score 排序後，選出的「最佳特徵索引」清單\n",
        "selected_features = [75, 57, 42, 60, 78, ...]\n",
        "X_selected = X[:, selected_features]"
      ],
      "metadata": {
        "id": "rfx5_w6fLawd"
      }
    },
    {
      "cell_type": "code",
      "source": [
        "# Pandas\n",
        "import pandas as pd\n",
        "\n",
        "# Sklearn\n",
        "from sklearn.feature_selection import SelectKBest\n",
        "from sklearn.feature_selection import f_regression\n",
        "from sklearn import preprocessing\n",
        "\n",
        "# Feature Selection\n",
        "\n",
        "data = pd.read_csv(r'covid.train.csv')\n",
        "x = data[data.columns[1:94]]\n",
        "y = data[data.columns[94]]\n",
        "\n",
        "# Normalisation\n",
        "x = (x - x.min()) / (x.max() - x.min())\n",
        "\n",
        "# Create an instance of SelectKBest without specifying 'k'\n",
        "bestfeatures = SelectKBest(score_func=f_regression)\n",
        "\n",
        "# Compute the scores for all features\n",
        "fit = bestfeatures.fit(x,y)\n",
        "\n",
        "# Convert the scores into a DataFrame\n",
        "dfscores = pd.DataFrame(fit.scores_)\n",
        "\n",
        "# Create a DataFrame of the column names\n",
        "dfcolumns = pd.DataFrame(x.columns)\n",
        "\n",
        "# Concatenate the two DataFrames for better visualization\n",
        "featureScores = pd.concat([dfcolumns,dfscores],axis=1)\n",
        "\n",
        "# Name the DataFrame columns\n",
        "featureScores.columns = ['Specs','Score']\n",
        "\n",
        "# Print the 20 rows with the highest scores\n",
        "print(featureScores.nlargest(25,'Score'))\n",
        "\n",
        "# Print the index of the most important features\n",
        "top_rows = featureScores.nlargest(25, 'Score').index.tolist()[:25]\n",
        "print(top_rows)"
      ],
      "metadata": {
        "colab": {
          "base_uri": "https://localhost:8080/"
        },
        "id": "4YzXEi2tJocz",
        "outputId": "3b5837a5-dea1-4692-ea38-52025599954b"
      },
      "execution_count": null,
      "outputs": [
        {
          "output_type": "stream",
          "name": "stdout",
          "text": [
            "                   Specs          Score\n",
            "75     tested_positive.1  148069.658278\n",
            "57       tested_positive   69603.872591\n",
            "42          hh_cmnty_cli    9235.492094\n",
            "60        hh_cmnty_cli.1    9209.019558\n",
            "78        hh_cmnty_cli.2    9097.375172\n",
            "43        nohh_cmnty_cli    8395.421300\n",
            "61      nohh_cmnty_cli.1    8343.255927\n",
            "79      nohh_cmnty_cli.2    8208.176435\n",
            "40                   cli    6388.906849\n",
            "58                 cli.1    6374.548000\n",
            "76                 cli.2    6250.008702\n",
            "41                   ili    5998.922880\n",
            "59                 ili.1    5937.588576\n",
            "77                 ili.2    5796.947672\n",
            "92    worried_finances.2     833.613191\n",
            "74    worried_finances.1     811.916460\n",
            "56      worried_finances     788.076931\n",
            "87      public_transit.2     686.736539\n",
            "69      public_transit.1     681.562902\n",
            "51        public_transit     678.834789\n",
            "83                shop.2     561.764051\n",
            "65                shop.1     553.876727\n",
            "47                  shop     546.553395\n",
            "91  worried_become_ill.2     208.122647\n",
            "17                    MA     205.672603\n",
            "[75, 57, 42, 60, 78, 43, 61, 79, 40, 58, 76, 41, 59, 77, 92, 74, 56, 87, 69, 51, 83, 65, 47, 91, 17]\n"
          ]
        }
      ]
    },
    {
      "cell_type": "markdown",
      "metadata": {
        "id": "TQ-MdwpLL7Dt"
      },
      "source": [
        "## **Dataset**\n",
        "\n",
        "The `COVID19Dataset` below does:\n",
        "* read `.csv` files\n",
        "* extract features\n",
        "* split `covid.train.csv` into train/dev sets\n",
        "* normalize features\n",
        "\n",
        "Finishing `TODO` below might make you pass medium baseline.\n",
        "\n",
        "讓target_only = True 然後用我們的Feature Selection\n",
        "\n",
        "### 🎯 若你想再進一步：\n",
        "\n",
        "| 目標               | 可做的升級                                                |\n",
        "|--------------------|-----------------------------------------------------------|\n",
        "| 更動特徵不改程式碼 | 將 `feats` 存成外部檔案（例如 `.npy` 或 `.json`）動態讀入 |\n",
        "| 多標籤任務         | 支援 `target = data[:, -n:]`，處理多欄目標輸出              |\n",
        "| 使用資料標頭       | 若 CSV 含欄位名稱，改用 `pandas` 並建立特徵名稱對應表       |"
      ]
    },
    {
      "cell_type": "code",
      "metadata": {
        "id": "0zlpIp9ANJRU"
      },
      "source": [
        "class COVID19Dataset(Dataset):\n",
        "    ''' Dataset for loading and preprocessing the COVID19 dataset '''\n",
        "    def __init__(self,\n",
        "                 path,\n",
        "                 mode='train',\n",
        "                 target_only=True,\n",
        "                 mean=None,\n",
        "                 std=None):\n",
        "      ##讓target_only = True 然後用我們的Feature Selection\n",
        "        self.mode = mode\n",
        "\n",
        "\n",
        "      # --- 1) load raw data and select features --------------------\n",
        "        # Read data into numpy arrays\n",
        "        # 去掉標頭列與第一欄 id\n",
        "        with open(path, 'r') as fp:\n",
        "            data = list(csv.reader(fp))\n",
        "            data = np.array(data[1:])[:, 1:].astype(float)\n",
        "\n",
        "        if not target_only:\n",
        "            feats = list(range(data.shape[1] - (mode != 'test')))\n",
        "        else:\n",
        "            # TODO: Using 40 states & 2 tested_positive features (indices = 57 & 75)\n",
        "            # 來自 SelectKBest(f_regression) 的排名\n",
        "            feats = [75, 57, 42, 60, 78, 43, 61, 79, 40, 58, 76, 41, 59, 77, 92]\n",
        "\n",
        "\n",
        "        # test 模式不含標籤，只回傳特徵\n",
        "        # train/dev 模式：抽出最後一欄作為 label（ground truth）\n",
        "        if mode == 'test':\n",
        "            # Testing data\n",
        "            # data: 893 x 93 (40 states + day 1 (18) + day 2 (18) + day 3 (17))\n",
        "            target = None\n",
        "            data = data[:, feats]\n",
        "            self.data = torch.FloatTensor(data)\n",
        "        else:\n",
        "            # Training data (train/dev sets)\n",
        "            # data: 2700 x 94 (40 states + day 1 (18) + day 2 (18) + day 3 (18))\n",
        "            target = data[:, -1]\n",
        "            data = data[:, feats]\n",
        "\n",
        "\n",
        "        # --- 2) split indices ----------------------------------------\n",
        "            # Splitting training data into train & dev sets\n",
        "            #保持可重現的 9:1 定點切分\n",
        "        if mode == 'train':\n",
        "            indices = [i for i in range(len(data)) if i % 10 != 0]\n",
        "        elif mode == 'dev':\n",
        "            indices = [i for i in range(len(data)) if i % 10 == 0]\n",
        "        else:\n",
        "            indices  = list(range(len(data)))\n",
        "\n",
        "        train_data = data[indices]\n",
        "\n",
        "        # Convert data into PyTorch tensors\n",
        "        if mode != 'test':\n",
        "          self.target = torch.FloatTensor(target[indices])\n",
        "\n",
        "        # --- 3) normalize --------------------------------------------\n",
        "\n",
        "        # 作者原本希望在使用全部特徵時（target_only=False）：前 40 個特徵是州別類別（不標準化），從第 40 維開始才做標準化\n",
        "        # 使用 target_only=True（例如只取幾個精選特徵）：有可能會把前 40 維都拿掉（如只保留第 57、75 等）\n",
        "        # 在 target_only=True 的情況下，這段根本不會執行（因為維度只有17）\n",
        "        # 等於你實際沒做任何標準化，這會讓特徵值尺度不一，模型訓練不穩\n",
        "        # this is incorrect after feature selection: normalize_start_index = 40\n",
        "        # after feature selection, we ignore one Hot features, hence we can normalize everything\n",
        "\n",
        "        eps = 1e-8\n",
        "        if self.mode == 'train':\n",
        "            train_mean = train_data.mean(axis=0, keepdims=True)\n",
        "            train_std  = train_data.std(axis=0,  keepdims=True) + eps\n",
        "        # On the other hand the orignial code normalized everything\n",
        "        # making data leakage from the dev & test data\n",
        "        else:\n",
        "            assert mean is not None and std is not None, \"Dev/test require train mean/std\"\n",
        "            train_mean, train_std = mean, std\n",
        "\n",
        "        normalized = (train_data - train_mean) / train_std\n",
        "        self.data  = torch.FloatTensor(normalized)\n",
        "        self.mean, self.std = train_mean, train_std\n",
        "        self.dim = self.data.shape[1]\n",
        "\n",
        "        print('Finished reading the {} set of COVID19 Dataset ({} samples found, each dim = {})'\n",
        "              .format(mode, len(self.data), self.dim))\n",
        "\n",
        "    def __getitem__(self, index):\n",
        "        # Returns one sample at a time\n",
        "        if self.mode in ['train', 'dev']:\n",
        "            # For training 訓練或驗證模型時用，必須包含真實標籤\n",
        "            return self.data[index], self.target[index]\n",
        "        else:\n",
        "            # For testing (no target) 測試階段無標籤，模型只會做預測\n",
        "            return self.data[index]\n",
        "\n",
        "    #這讓 DataLoader 知道一共要跑幾輪、幾個 batch。\n",
        "    def __len__(self):\n",
        "        # Returns the size of the dataset\n",
        "        return len(self.data)"
      ],
      "execution_count": null,
      "outputs": []
    },
    {
      "cell_type": "markdown",
      "metadata": {
        "id": "AlhTlkE7MDo3"
      },
      "source": [
        "## **DataLoader**\n",
        "\n",
        "A `DataLoader` loads data from a given `Dataset` into batches.\n",
        "\n",
        "✅ 根據模式（train/dev/test）建立 COVID19Dataset，然後包裝成 DataLoader，提供給模型迭代讀取。\n",
        "\n",
        "✅ 將你定義好的 Dataset，打包成「一批一批的資料」，讓模型在訓練或推論時高效、有條理地讀取。\n",
        "\n"
      ]
    },
    {
      "cell_type": "markdown",
      "source": [
        "### 🔍 DataLoader 能做什麼？功能總覽\n",
        "\n"
      ],
      "metadata": {
        "id": "xIEz5gHSyKnf"
      }
    },
    {
      "cell_type": "markdown",
      "source": [
        "| 功能               | 說明                                                        |\n",
        "|--------------------|-------------------------------------------------------------|\n",
        "| **Batching（分批）**       | 將資料切成每批 `batch_size` 筆                              |\n",
        "| **Shuffling（隨機排序）** | 每次訓練打亂順序，提升泛化能力                               |\n",
        "| **Multi-processing（多執行緒讀取）** | 平行從硬碟或記憶體讀取，加快速度                    |\n",
        "| **Pin Memory**      | 用 pinned memory 提升 GPU 資料傳輸效率                       |\n",
        "| **Drop last**       | 控制是否丟棄最後不足一整批的資料                              |\n",
        "| **Iterable**        | 可用 `for batch in dataloader:` 的方式逐批取資料              |\n",
        "\n",
        "\n",
        "####Shuffle\n",
        "每個 epoch 開始前，重新隨機排列 Dataset 的索引順序。\n",
        "這可避免模型依賴資料的既定排列（例如所有陽性病例都在一起），強迫它從資料本身學到泛化規律。\n",
        "- 如有極端不均衡資料時，光打亂可能不足以解決偏斜。\n",
        "- 若你的資料帶有時間序列依賴（e.g. 逐日疫情走勢），則應改用自訂 Sampler 以保留時序結構。\n",
        "\n",
        "####Drop_last\n",
        "資料筆數若無法整除 batch_size，最後不足一整批的樣本是否 直接棄掉。\n",
        "設 False ⇒ 保留零碎 batch；設 True ⇒ 直接忽略。\n",
        "- 設 True 會丟失少量資料（約 < 1 × batch_size）。\n",
        "- 設 False 時，最後一批樣本數量變少，BN/Dropout 統計稍有偏差，但通常影響可忽略。\n",
        "\n",
        "####Pin_memory\n",
        "使用 CUDA 時，先在 page-locked（pinned）主記憶體 配置張量，再一次性 DMA 拷貝到 GPU，減少 CPU ↔ GPU 傳輸延遲。\n",
        "影像、表格、時間序列… 只要 GPU 訓練，一律 pin_memory=True；若記憶體吃緊，可視情況關閉或降低 batch_size。\n"
      ],
      "metadata": {
        "id": "4ckaqnF4yfQo"
      }
    },
    {
      "cell_type": "markdown",
      "source": [
        "###實作"
      ],
      "metadata": {
        "id": "D03P_5tRymTb"
      }
    },
    {
      "cell_type": "code",
      "metadata": {
        "id": "hlhLk5t6MBX3"
      },
      "source": [
        "def prep_dataloader(path, mode, batch_size, n_jobs=0, target_only=False, mean=None, std=None):\n",
        "    ''' Generates a dataset, then is put into a dataloader. '''\n",
        "    dataset = COVID19Dataset(path, mode=mode, target_only=target_only, mean=mean, std=std)  # Construct dataset\n",
        "    dataloader = DataLoader(\n",
        "        dataset, batch_size,\n",
        "        shuffle=(mode == 'train'), drop_last=False,\n",
        "        num_workers=n_jobs, pin_memory=True)                           # Construct dataloader\n",
        "    return dataloader, dataset.mean, dataset.std"
      ],
      "execution_count": null,
      "outputs": []
    },
    {
      "cell_type": "markdown",
      "metadata": {
        "id": "SGuycwR0MeQB"
      },
      "source": [
        "# **Deep Neural Network**\n",
        "\n",
        "`NeuralNet` is an `nn.Module` designed for regression.\n",
        "The DNN consists of 2 fully-connected layers with ReLU activation.\n",
        "This module also included a function `cal_loss` for calculating loss.\n"
      ]
    },
    {
      "cell_type": "code",
      "metadata": {
        "id": "49-uXYovOAI0"
      },
      "source": [
        "class NeuralNet(nn.Module):\n",
        "    ''' A simple fully-connected deep neural network '''\n",
        "    def __init__(self, input_dim):\n",
        "        super(NeuralNet, self).__init__()\n",
        "\n",
        "        # Define your neural network here\n",
        "        # TODO: How to modify this model to achieve better performance?\n",
        "        self.net = nn.Sequential(\n",
        "            nn.Linear(input_dim, 64),\n",
        "            nn.ReLU(),\n",
        "            nn.Dropout(0.1),\n",
        "            nn.Linear(64, 16),\n",
        "            nn.ReLU(),\n",
        "            nn.Dropout(0.05),\n",
        "            nn.Linear(16, 1)\n",
        "        )\n",
        "\n",
        "\n",
        "        # Mean squared error loss\n",
        "        self.criterion = nn.MSELoss(reduction='mean')\n",
        "\n",
        "    def forward(self, x):\n",
        "        ''' Given input of size (batch_size x input_dim), compute output of the network '''\n",
        "        return self.net(x).squeeze(1)\n",
        "\n",
        "\n",
        "    #L2 對所有權重施加「平方懲罰」，使參數趨向小但不為 0\n",
        "    #L1 在 optimization 過程中對 gradient 的導數是非連續的（在 0 處），訓練不如 L2 穩定\n",
        "    def cal_loss(self, pred, target, config):\n",
        "        '''Calculate loss with optional L1 regularization from config'''\n",
        "\n",
        "        base_loss = self.criterion(pred, target)\n",
        "        l1_lambda = config.get('l1_lambda', 0.0)\n",
        "\n",
        "        if l1_lambda > 0:\n",
        "            l1_norm = sum(p.abs().sum() for p in self.parameters())  # ← 這裡修正\n",
        "            loss = base_loss + l1_lambda * l1_norm\n",
        "        else:\n",
        "            loss = base_loss\n",
        "\n",
        "        return loss\n"
      ],
      "execution_count": null,
      "outputs": []
    },
    {
      "cell_type": "markdown",
      "metadata": {
        "id": "DvFWVjZ5Nvga"
      },
      "source": [
        "# **Train/Dev/Test**"
      ]
    },
    {
      "cell_type": "markdown",
      "metadata": {
        "id": "MAM8QecJOyqn"
      },
      "source": [
        "## **Training**"
      ]
    },
    {
      "cell_type": "code",
      "metadata": {
        "id": "lOqcmYzMO7jB"
      },
      "source": [
        "import os\n",
        "import torch\n",
        "from torch.optim.lr_scheduler import OneCycleLR\n",
        "\n",
        "def eval_loss(dataloader, model, device, config):\n",
        "    '''计算 dataloader 上的 MSE，使用 eval 模式'''\n",
        "    model.eval()\n",
        "    total_loss = 0.0\n",
        "    with torch.no_grad():\n",
        "        for x, y in dataloader:\n",
        "            x, y = x.to(device), y.to(device)\n",
        "            pred = model(x)\n",
        "            loss = model.cal_loss(pred, y, config)\n",
        "            total_loss += loss.item() * x.size(0)\n",
        "    return total_loss / len(dataloader.dataset)\n",
        "\n",
        "def train(tr_set, dv_set, model, config, device):\n",
        "    # 1. 建立 optimizer\n",
        "    optimizer = getattr(torch.optim, config['optimizer'])(\n",
        "        model.parameters(), **config['optim_hparas'])\n",
        "    # 2. 在 train 里实例化 OneCycleLR\n",
        "    scheduler = OneCycleLR(\n",
        "        optimizer,\n",
        "        max_lr=config['max_lr'],\n",
        "        epochs=config['n_epochs'],\n",
        "        steps_per_epoch=len(tr_set),\n",
        "        pct_start=config['pct_start'],\n",
        "        anneal_strategy=config['anneal_strategy']\n",
        "    )\n",
        "\n",
        "    min_mse = float('inf')\n",
        "    early_stop_cnt = 0\n",
        "    loss_record = {'train': [], 'dev': []}\n",
        "\n",
        "    for epoch in range(config['n_epochs']):\n",
        "        model.train()\n",
        "        for x, y in tr_set:\n",
        "            optimizer.zero_grad()\n",
        "            x, y = x.to(device), y.to(device)\n",
        "            loss = model.cal_loss(model(x), y, config)\n",
        "            loss.backward()\n",
        "            optimizer.step()\n",
        "            scheduler.step()   # ← OneCycleLR 要每个 batch 调用\n",
        "\n",
        "        # 3. 统一在 eval 模式下计算 Train/Dev MSE\n",
        "        train_mse = eval_loss(tr_set, model, device, config)\n",
        "        dev_mse   = eval_loss(dv_set, model, device, config)\n",
        "        loss_record['train'].append(train_mse)\n",
        "        loss_record['dev'].append(dev_mse)\n",
        "\n",
        "        # 4. 每 10 个 epoch 或最后一轮打印一次\n",
        "        if (epoch + 1) % 10 == 0 or (epoch + 1) == config['n_epochs']:\n",
        "            current_lr = optimizer.param_groups[0]['lr']\n",
        "            print(f\"[Epoch {epoch+1:4d}] \"\n",
        "                  f\"Train MSE: {train_mse:.4f} | \"\n",
        "                  f\"Dev   MSE: {dev_mse:.4f} | LR: {current_lr:.6f}\")\n",
        "\n",
        "        # 5. Early stopping & 保存最优模型\n",
        "        if dev_mse < min_mse:\n",
        "            min_mse = dev_mse\n",
        "            torch.save(model.state_dict(), config['save_path'])\n",
        "            early_stop_cnt = 0\n",
        "        else:\n",
        "            early_stop_cnt += 1\n",
        "            if early_stop_cnt > config['early_stop']:\n",
        "                print(f\"Early stopping at epoch {epoch+1}.\")\n",
        "                break\n",
        "\n",
        "    print(f\"Finished training after {epoch+1} epochs.\")\n",
        "    return min_mse, loss_record"
      ],
      "execution_count": null,
      "outputs": []
    },
    {
      "cell_type": "markdown",
      "metadata": {
        "id": "0hSd4Bn3O2PL"
      },
      "source": [
        "## **Validation**"
      ]
    },
    {
      "cell_type": "code",
      "metadata": {
        "id": "yrxrD3YsN3U2"
      },
      "source": [
        "def dev(dv_set, model, device):\n",
        "    model.eval()                                # set model to evalutation mode\n",
        "    total_loss = 0\n",
        "    for x, y in dv_set:                         # iterate through the dataloader\n",
        "        x, y = x.to(device), y.to(device)       # move data to device (cpu/cuda)\n",
        "        with torch.no_grad():                   # disable gradient calculation\n",
        "            pred = model(x)                     # forward pass (compute output)\n",
        "            mse_loss = model.cal_loss(pred, y, config)  # compute loss\n",
        "        total_loss += mse_loss.detach().cpu().item() * len(x)  # accumulate loss\n",
        "    total_loss = total_loss / len(dv_set.dataset)              # compute averaged loss\n",
        "\n",
        "    return total_loss"
      ],
      "execution_count": null,
      "outputs": []
    },
    {
      "cell_type": "markdown",
      "metadata": {
        "id": "g0pdrhQAO41L"
      },
      "source": [
        "## **Testing**"
      ]
    },
    {
      "cell_type": "code",
      "metadata": {
        "id": "aSBMRFlYN5tB"
      },
      "source": [
        "def test(tt_set, model, device):\n",
        "    model.eval()                                # set model to evalutation mode\n",
        "    preds = []\n",
        "    for x in tt_set:                            # iterate through the dataloader\n",
        "        x = x.to(device)                        # move data to device (cpu/cuda)\n",
        "        with torch.no_grad():                   # disable gradient calculation\n",
        "            pred = model(x)                     # forward pass (compute output)\n",
        "            preds.append(pred.detach().cpu())   # collect prediction\n",
        "    preds = torch.cat(preds, dim=0).numpy()     # concatenate all predictions and convert to a numpy array\n",
        "    return preds"
      ],
      "execution_count": null,
      "outputs": []
    },
    {
      "cell_type": "markdown",
      "metadata": {
        "id": "SvckkF5dvf0j"
      },
      "source": [
        "# **Setup Hyper-parameters**\n",
        "\n",
        "`config` contains hyper-parameters for training and the path to save your model."
      ]
    },
    {
      "cell_type": "code",
      "metadata": {
        "id": "NPXpdumwPjE7",
        "colab": {
          "base_uri": "https://localhost:8080/",
          "height": 105
        },
        "outputId": "5506dea8-58e0-4665-fe7a-9e3b1107db7f"
      },
      "source": [
        "from torch.optim.lr_scheduler import OneCycleLR\n",
        "device = get_device()                 # get the current available device ('cpu' or 'cuda')\n",
        "os.makedirs('models', exist_ok=True)  # The trained model will be saved to ./models/\n",
        "target_only = True                  # TODO: Using 40 states & 2 tested_positive features 改成 True\n",
        "\n",
        "# TODO: How to tune these hyper-parameters to improve your model's performance?\n",
        "config = {\n",
        "    'n_epochs': 3000,                # maximum number of epochs\n",
        "    'batch_size': 64,               # mini-batch size for dataloader\n",
        "    'optimizer': 'Adam',              # optimization algorithm (optimizer in torch.optim)\n",
        "    'optim_hparas': {                # hyper-parameters for the optimizer (depends on which optimizer you are using)\n",
        "        'lr': 0.001,                 # learning rate of SGD\n",
        "        'weight_decay': 1e-6\n",
        "    },\n",
        "    'scheduler': {\n",
        "        max_lr=5e-2,\n",
        "        epochs=config['n_epochs'],\n",
        "        steps_per_epoch=len(tr_set),\n",
        "        pct_start=0.3,\n",
        "        anneal_strategy='linear'\n",
        "    },\n",
        "    'l1_lambda': 1e-5,\n",
        "    'early_stop': 300,               # early stopping epochs (the number epochs since your model's last improvement)\n",
        "    'save_path': 'models/model.pth'  # your model will be saved here\n",
        "}\n"
      ],
      "execution_count": null,
      "outputs": [
        {
          "output_type": "error",
          "ename": "SyntaxError",
          "evalue": "unterminated string literal (detected at line 15) (ipython-input-209-377813530.py, line 15)",
          "traceback": [
            "\u001b[0;36m  File \u001b[0;32m\"/tmp/ipython-input-209-377813530.py\"\u001b[0;36m, line \u001b[0;32m15\u001b[0m\n\u001b[0;31m    'scheduler = OneCycleLR(\u001b[0m\n\u001b[0m    ^\u001b[0m\n\u001b[0;31mSyntaxError\u001b[0m\u001b[0;31m:\u001b[0m unterminated string literal (detected at line 15)\n"
          ]
        }
      ]
    },
    {
      "cell_type": "markdown",
      "metadata": {
        "id": "6j1eOV3TOH-j"
      },
      "source": [
        "# **Load data and model**"
      ]
    },
    {
      "cell_type": "code",
      "metadata": {
        "colab": {
          "base_uri": "https://localhost:8080/"
        },
        "id": "eNrYBMmePLKm",
        "outputId": "1b4518a1-9851-426c-c00d-69e7827f0f8f"
      },
      "source": [
        "tr_set, train_mean, train_std = prep_dataloader(tr_path, 'train', config['batch_size'], target_only=target_only)\n",
        "dv_set, _, _ = prep_dataloader(tr_path, 'dev', config['batch_size'], target_only=target_only, mean=train_mean, std=train_std)\n",
        "tt_set, _, _ = prep_dataloader(tt_path, 'test', config['batch_size'], target_only=target_only, mean=train_mean, std=train_std)"
      ],
      "execution_count": null,
      "outputs": [
        {
          "output_type": "stream",
          "name": "stdout",
          "text": [
            "Finished reading the train set of COVID19 Dataset (2430 samples found, each dim = 15)\n",
            "Finished reading the dev set of COVID19 Dataset (270 samples found, each dim = 15)\n",
            "Finished reading the test set of COVID19 Dataset (893 samples found, each dim = 15)\n"
          ]
        }
      ]
    },
    {
      "cell_type": "code",
      "metadata": {
        "id": "FHylSirLP9oh"
      },
      "source": [
        "model = NeuralNet(tr_set.dataset.dim).to(device)  # Construct model and move to device"
      ],
      "execution_count": null,
      "outputs": []
    },
    {
      "cell_type": "markdown",
      "metadata": {
        "id": "sX2B_zgSOPTJ"
      },
      "source": [
        "# **Start Training!**"
      ]
    },
    {
      "cell_type": "code",
      "metadata": {
        "colab": {
          "base_uri": "https://localhost:8080/"
        },
        "id": "GrEbUxazQAAZ",
        "outputId": "a4f987ca-0fba-47eb-c6a1-aa604191002f"
      },
      "source": [
        "model_loss, model_loss_record = train(tr_set, dv_set, model, config, device)"
      ],
      "execution_count": null,
      "outputs": [
        {
          "output_type": "stream",
          "name": "stdout",
          "text": [
            "[Epoch   10] Train MSE: 1.1466 | Dev   MSE: 1.0769 | LR: 0.002595\n",
            "[Epoch   20] Train MSE: 1.2676 | Dev   MSE: 1.1698 | LR: 0.000412\n",
            "[Epoch   30] Train MSE: 1.1148 | Dev   MSE: 1.0406 | LR: 0.000119\n",
            "[Epoch   40] Train MSE: 1.1108 | Dev   MSE: 1.0383 | LR: 0.000101\n",
            "[Epoch   50] Train MSE: 1.1117 | Dev   MSE: 1.0398 | LR: 0.000100\n",
            "[Epoch   60] Train MSE: 1.1164 | Dev   MSE: 1.0436 | LR: 0.000100\n",
            "[Epoch   70] Train MSE: 1.1303 | Dev   MSE: 1.0493 | LR: 0.000100\n",
            "[Epoch   80] Train MSE: 1.1039 | Dev   MSE: 1.0249 | LR: 0.000100\n",
            "[Epoch   90] Train MSE: 1.0903 | Dev   MSE: 1.0231 | LR: 0.000100\n",
            "[Epoch  100] Train MSE: 1.0951 | Dev   MSE: 1.0177 | LR: 0.000100\n",
            "[Epoch  110] Train MSE: 1.1219 | Dev   MSE: 1.0327 | LR: 0.000100\n",
            "[Epoch  120] Train MSE: 1.0827 | Dev   MSE: 1.0068 | LR: 0.000100\n",
            "[Epoch  130] Train MSE: 1.1306 | Dev   MSE: 1.0394 | LR: 0.000100\n",
            "[Epoch  140] Train MSE: 1.1302 | Dev   MSE: 1.0385 | LR: 0.000100\n",
            "[Epoch  150] Train MSE: 1.0679 | Dev   MSE: 0.9899 | LR: 0.000100\n",
            "[Epoch  160] Train MSE: 1.0911 | Dev   MSE: 1.0045 | LR: 0.000100\n",
            "[Epoch  170] Train MSE: 1.0789 | Dev   MSE: 0.9928 | LR: 0.000100\n",
            "[Epoch  180] Train MSE: 1.1303 | Dev   MSE: 1.0327 | LR: 0.000100\n",
            "[Epoch  190] Train MSE: 1.0605 | Dev   MSE: 0.9794 | LR: 0.000100\n",
            "[Epoch  200] Train MSE: 1.0689 | Dev   MSE: 0.9814 | LR: 0.000100\n",
            "[Epoch  210] Train MSE: 1.0697 | Dev   MSE: 0.9768 | LR: 0.000100\n",
            "[Epoch  220] Train MSE: 1.0577 | Dev   MSE: 0.9734 | LR: 0.000100\n",
            "[Epoch  230] Train MSE: 1.1257 | Dev   MSE: 1.0311 | LR: 0.000100\n",
            "[Epoch  240] Train MSE: 1.0492 | Dev   MSE: 0.9652 | LR: 0.000100\n",
            "[Epoch  250] Train MSE: 1.0431 | Dev   MSE: 0.9576 | LR: 0.000100\n",
            "[Epoch  260] Train MSE: 1.0364 | Dev   MSE: 0.9574 | LR: 0.000100\n",
            "[Epoch  270] Train MSE: 1.0488 | Dev   MSE: 0.9583 | LR: 0.000100\n",
            "[Epoch  280] Train MSE: 1.0518 | Dev   MSE: 0.9597 | LR: 0.000100\n",
            "[Epoch  290] Train MSE: 1.0271 | Dev   MSE: 0.9484 | LR: 0.000100\n",
            "[Epoch  300] Train MSE: 1.0362 | Dev   MSE: 0.9524 | LR: 0.000100\n",
            "[Epoch  310] Train MSE: 1.0269 | Dev   MSE: 0.9466 | LR: 0.000100\n",
            "[Epoch  320] Train MSE: 1.0269 | Dev   MSE: 0.9454 | LR: 0.000100\n",
            "[Epoch  330] Train MSE: 1.0211 | Dev   MSE: 0.9414 | LR: 0.000100\n",
            "[Epoch  340] Train MSE: 1.0302 | Dev   MSE: 0.9427 | LR: 0.000100\n",
            "[Epoch  350] Train MSE: 1.0646 | Dev   MSE: 0.9742 | LR: 0.000100\n",
            "[Epoch  360] Train MSE: 1.0713 | Dev   MSE: 0.9745 | LR: 0.000100\n",
            "[Epoch  370] Train MSE: 1.0106 | Dev   MSE: 0.9307 | LR: 0.000100\n",
            "[Epoch  380] Train MSE: 1.0176 | Dev   MSE: 0.9291 | LR: 0.000100\n",
            "[Epoch  390] Train MSE: 1.0178 | Dev   MSE: 0.9311 | LR: 0.000100\n",
            "[Epoch  400] Train MSE: 1.0236 | Dev   MSE: 0.9375 | LR: 0.000100\n",
            "[Epoch  410] Train MSE: 1.0133 | Dev   MSE: 0.9220 | LR: 0.000100\n",
            "[Epoch  420] Train MSE: 1.0028 | Dev   MSE: 0.9248 | LR: 0.000100\n",
            "[Epoch  430] Train MSE: 1.0241 | Dev   MSE: 0.9300 | LR: 0.000100\n",
            "[Epoch  440] Train MSE: 1.0041 | Dev   MSE: 0.9175 | LR: 0.000100\n",
            "[Epoch  450] Train MSE: 1.0068 | Dev   MSE: 0.9226 | LR: 0.000100\n",
            "[Epoch  460] Train MSE: 1.0016 | Dev   MSE: 0.9179 | LR: 0.000100\n",
            "[Epoch  470] Train MSE: 0.9984 | Dev   MSE: 0.9188 | LR: 0.000100\n",
            "[Epoch  480] Train MSE: 0.9931 | Dev   MSE: 0.9114 | LR: 0.000100\n",
            "[Epoch  490] Train MSE: 0.9910 | Dev   MSE: 0.9119 | LR: 0.000100\n",
            "[Epoch  500] Train MSE: 0.9896 | Dev   MSE: 0.9141 | LR: 0.000100\n",
            "[Epoch  510] Train MSE: 1.0058 | Dev   MSE: 0.9182 | LR: 0.000100\n",
            "[Epoch  520] Train MSE: 0.9863 | Dev   MSE: 0.9102 | LR: 0.000100\n",
            "[Epoch  530] Train MSE: 0.9863 | Dev   MSE: 0.9057 | LR: 0.000100\n",
            "[Epoch  540] Train MSE: 0.9843 | Dev   MSE: 0.9044 | LR: 0.000100\n",
            "[Epoch  550] Train MSE: 0.9876 | Dev   MSE: 0.9006 | LR: 0.000100\n",
            "[Epoch  560] Train MSE: 0.9855 | Dev   MSE: 0.9064 | LR: 0.000100\n",
            "[Epoch  570] Train MSE: 0.9814 | Dev   MSE: 0.9021 | LR: 0.000100\n",
            "[Epoch  580] Train MSE: 1.0103 | Dev   MSE: 0.9131 | LR: 0.000100\n",
            "[Epoch  590] Train MSE: 0.9867 | Dev   MSE: 0.8983 | LR: 0.000100\n",
            "[Epoch  600] Train MSE: 0.9875 | Dev   MSE: 0.8998 | LR: 0.000100\n",
            "[Epoch  610] Train MSE: 0.9966 | Dev   MSE: 0.9010 | LR: 0.000100\n",
            "[Epoch  620] Train MSE: 0.9752 | Dev   MSE: 0.8995 | LR: 0.000100\n",
            "[Epoch  630] Train MSE: 0.9758 | Dev   MSE: 0.9000 | LR: 0.000100\n",
            "[Epoch  640] Train MSE: 0.9752 | Dev   MSE: 0.8929 | LR: 0.000100\n",
            "[Epoch  650] Train MSE: 0.9826 | Dev   MSE: 0.8986 | LR: 0.000100\n",
            "[Epoch  660] Train MSE: 0.9876 | Dev   MSE: 0.9006 | LR: 0.000100\n",
            "[Epoch  670] Train MSE: 0.9892 | Dev   MSE: 0.9021 | LR: 0.000100\n",
            "[Epoch  680] Train MSE: 0.9818 | Dev   MSE: 0.8938 | LR: 0.000100\n",
            "[Epoch  690] Train MSE: 0.9709 | Dev   MSE: 0.8909 | LR: 0.000100\n",
            "[Epoch  700] Train MSE: 0.9692 | Dev   MSE: 0.8892 | LR: 0.000100\n",
            "[Epoch  710] Train MSE: 0.9856 | Dev   MSE: 0.8994 | LR: 0.000100\n",
            "[Epoch  720] Train MSE: 0.9775 | Dev   MSE: 0.8940 | LR: 0.000100\n",
            "[Epoch  730] Train MSE: 0.9735 | Dev   MSE: 0.8937 | LR: 0.000100\n",
            "[Epoch  740] Train MSE: 0.9888 | Dev   MSE: 0.9008 | LR: 0.000100\n",
            "[Epoch  750] Train MSE: 0.9650 | Dev   MSE: 0.8900 | LR: 0.000100\n",
            "[Epoch  760] Train MSE: 0.9682 | Dev   MSE: 0.8850 | LR: 0.000100\n",
            "[Epoch  770] Train MSE: 0.9784 | Dev   MSE: 0.8911 | LR: 0.000100\n",
            "[Epoch  780] Train MSE: 0.9707 | Dev   MSE: 0.8839 | LR: 0.000100\n",
            "[Epoch  790] Train MSE: 0.9948 | Dev   MSE: 0.9074 | LR: 0.000100\n",
            "[Epoch  800] Train MSE: 0.9801 | Dev   MSE: 0.8984 | LR: 0.000100\n",
            "[Epoch  810] Train MSE: 0.9757 | Dev   MSE: 0.8887 | LR: 0.000100\n",
            "[Epoch  820] Train MSE: 0.9663 | Dev   MSE: 0.8833 | LR: 0.000100\n",
            "[Epoch  830] Train MSE: 0.9685 | Dev   MSE: 0.8875 | LR: 0.000100\n",
            "[Epoch  840] Train MSE: 0.9642 | Dev   MSE: 0.8862 | LR: 0.000100\n",
            "[Epoch  850] Train MSE: 0.9824 | Dev   MSE: 0.8918 | LR: 0.000100\n",
            "[Epoch  860] Train MSE: 0.9690 | Dev   MSE: 0.8850 | LR: 0.000100\n",
            "[Epoch  870] Train MSE: 0.9798 | Dev   MSE: 0.8956 | LR: 0.000100\n",
            "[Epoch  880] Train MSE: 0.9767 | Dev   MSE: 0.8953 | LR: 0.000100\n",
            "[Epoch  890] Train MSE: 0.9668 | Dev   MSE: 0.8891 | LR: 0.000100\n",
            "[Epoch  900] Train MSE: 0.9798 | Dev   MSE: 0.8915 | LR: 0.000100\n",
            "[Epoch  910] Train MSE: 0.9781 | Dev   MSE: 0.8936 | LR: 0.000100\n",
            "[Epoch  920] Train MSE: 0.9584 | Dev   MSE: 0.8799 | LR: 0.000100\n",
            "[Epoch  930] Train MSE: 0.9688 | Dev   MSE: 0.8882 | LR: 0.000100\n",
            "[Epoch  940] Train MSE: 0.9863 | Dev   MSE: 0.8956 | LR: 0.000100\n",
            "[Epoch  950] Train MSE: 0.9565 | Dev   MSE: 0.8821 | LR: 0.000100\n",
            "[Epoch  960] Train MSE: 0.9664 | Dev   MSE: 0.8807 | LR: 0.000100\n",
            "[Epoch  970] Train MSE: 0.9796 | Dev   MSE: 0.8993 | LR: 0.000100\n",
            "[Epoch  980] Train MSE: 0.9643 | Dev   MSE: 0.8759 | LR: 0.000100\n",
            "[Epoch  990] Train MSE: 0.9571 | Dev   MSE: 0.8815 | LR: 0.000100\n",
            "[Epoch 1000] Train MSE: 0.9653 | Dev   MSE: 0.8894 | LR: 0.000100\n",
            "[Epoch 1010] Train MSE: 0.9663 | Dev   MSE: 0.8881 | LR: 0.000100\n",
            "[Epoch 1020] Train MSE: 0.9636 | Dev   MSE: 0.8890 | LR: 0.000100\n",
            "[Epoch 1030] Train MSE: 0.9537 | Dev   MSE: 0.8862 | LR: 0.000100\n",
            "[Epoch 1040] Train MSE: 0.9539 | Dev   MSE: 0.8812 | LR: 0.000100\n",
            "[Epoch 1050] Train MSE: 0.9828 | Dev   MSE: 0.9002 | LR: 0.000100\n",
            "[Epoch 1060] Train MSE: 0.9547 | Dev   MSE: 0.8810 | LR: 0.000100\n",
            "[Epoch 1070] Train MSE: 0.9736 | Dev   MSE: 0.8918 | LR: 0.000100\n",
            "[Epoch 1080] Train MSE: 0.9534 | Dev   MSE: 0.8763 | LR: 0.000100\n",
            "[Epoch 1090] Train MSE: 0.9658 | Dev   MSE: 0.8915 | LR: 0.000100\n",
            "[Epoch 1100] Train MSE: 0.9578 | Dev   MSE: 0.8825 | LR: 0.000100\n",
            "[Epoch 1110] Train MSE: 0.9782 | Dev   MSE: 0.8967 | LR: 0.000100\n",
            "[Epoch 1120] Train MSE: 0.9612 | Dev   MSE: 0.8788 | LR: 0.000100\n",
            "[Epoch 1130] Train MSE: 0.9585 | Dev   MSE: 0.8864 | LR: 0.000100\n",
            "[Epoch 1140] Train MSE: 0.9644 | Dev   MSE: 0.8813 | LR: 0.000100\n",
            "[Epoch 1150] Train MSE: 0.9537 | Dev   MSE: 0.8779 | LR: 0.000100\n",
            "[Epoch 1160] Train MSE: 0.9556 | Dev   MSE: 0.8919 | LR: 0.000100\n",
            "[Epoch 1170] Train MSE: 0.9658 | Dev   MSE: 0.8862 | LR: 0.000100\n",
            "[Epoch 1180] Train MSE: 0.9512 | Dev   MSE: 0.8784 | LR: 0.000100\n",
            "[Epoch 1190] Train MSE: 0.9502 | Dev   MSE: 0.8772 | LR: 0.000100\n",
            "[Epoch 1200] Train MSE: 0.9644 | Dev   MSE: 0.8870 | LR: 0.000100\n",
            "[Epoch 1210] Train MSE: 0.9502 | Dev   MSE: 0.8788 | LR: 0.000100\n",
            "[Epoch 1220] Train MSE: 0.9523 | Dev   MSE: 0.8738 | LR: 0.000100\n",
            "[Epoch 1230] Train MSE: 0.9532 | Dev   MSE: 0.8791 | LR: 0.000100\n",
            "[Epoch 1240] Train MSE: 0.9623 | Dev   MSE: 0.8857 | LR: 0.000100\n",
            "[Epoch 1250] Train MSE: 0.9724 | Dev   MSE: 0.8974 | LR: 0.000100\n",
            "[Epoch 1260] Train MSE: 0.9767 | Dev   MSE: 0.8933 | LR: 0.000100\n",
            "[Epoch 1270] Train MSE: 0.9636 | Dev   MSE: 0.8854 | LR: 0.000100\n",
            "[Epoch 1280] Train MSE: 0.9468 | Dev   MSE: 0.8819 | LR: 0.000100\n",
            "[Epoch 1290] Train MSE: 0.9610 | Dev   MSE: 0.8924 | LR: 0.000100\n",
            "[Epoch 1300] Train MSE: 0.9474 | Dev   MSE: 0.8860 | LR: 0.000100\n",
            "[Epoch 1310] Train MSE: 0.9457 | Dev   MSE: 0.8821 | LR: 0.000100\n",
            "[Epoch 1320] Train MSE: 0.9585 | Dev   MSE: 0.8845 | LR: 0.000100\n",
            "[Epoch 1330] Train MSE: 0.9458 | Dev   MSE: 0.8779 | LR: 0.000100\n",
            "[Epoch 1340] Train MSE: 0.9546 | Dev   MSE: 0.8837 | LR: 0.000100\n",
            "[Epoch 1350] Train MSE: 0.9559 | Dev   MSE: 0.8800 | LR: 0.000100\n",
            "[Epoch 1360] Train MSE: 0.9466 | Dev   MSE: 0.8769 | LR: 0.000100\n",
            "[Epoch 1370] Train MSE: 0.9745 | Dev   MSE: 0.8965 | LR: 0.000100\n",
            "[Epoch 1380] Train MSE: 0.9554 | Dev   MSE: 0.8809 | LR: 0.000100\n",
            "[Epoch 1390] Train MSE: 0.9518 | Dev   MSE: 0.8808 | LR: 0.000100\n",
            "[Epoch 1400] Train MSE: 0.9542 | Dev   MSE: 0.8803 | LR: 0.000100\n",
            "[Epoch 1410] Train MSE: 0.9439 | Dev   MSE: 0.8835 | LR: 0.000100\n",
            "[Epoch 1420] Train MSE: 0.9455 | Dev   MSE: 0.8792 | LR: 0.000100\n",
            "[Epoch 1430] Train MSE: 0.9618 | Dev   MSE: 0.8847 | LR: 0.000100\n",
            "[Epoch 1440] Train MSE: 0.9475 | Dev   MSE: 0.8836 | LR: 0.000100\n",
            "[Epoch 1450] Train MSE: 0.9541 | Dev   MSE: 0.8829 | LR: 0.000100\n",
            "[Epoch 1460] Train MSE: 0.9546 | Dev   MSE: 0.8849 | LR: 0.000100\n",
            "[Epoch 1470] Train MSE: 0.9503 | Dev   MSE: 0.8793 | LR: 0.000100\n",
            "[Epoch 1480] Train MSE: 0.9458 | Dev   MSE: 0.8815 | LR: 0.000100\n",
            "[Epoch 1490] Train MSE: 0.9465 | Dev   MSE: 0.8779 | LR: 0.000100\n",
            "[Epoch 1500] Train MSE: 0.9546 | Dev   MSE: 0.8849 | LR: 0.000100\n",
            "[Epoch 1510] Train MSE: 0.9580 | Dev   MSE: 0.8834 | LR: 0.000100\n",
            "[Epoch 1520] Train MSE: 0.9451 | Dev   MSE: 0.8798 | LR: 0.000100\n",
            "[Epoch 1530] Train MSE: 0.9499 | Dev   MSE: 0.8789 | LR: 0.000100\n",
            "[Epoch 1540] Train MSE: 0.9495 | Dev   MSE: 0.8825 | LR: 0.000100\n",
            "[Epoch 1550] Train MSE: 0.9497 | Dev   MSE: 0.8802 | LR: 0.000100\n",
            "[Epoch 1560] Train MSE: 0.9477 | Dev   MSE: 0.8796 | LR: 0.000100\n",
            "[Epoch 1570] Train MSE: 0.9452 | Dev   MSE: 0.8777 | LR: 0.000100\n",
            "Early stopping.\n"
          ]
        }
      ]
    },
    {
      "cell_type": "code",
      "metadata": {
        "colab": {
          "base_uri": "https://localhost:8080/",
          "height": 410
        },
        "id": "hsNO9nnXQBvP",
        "outputId": "f98f7fa5-b769-4a5e-dd79-7cd10fc84800"
      },
      "source": [
        "plot_learning_curve(model_loss_record, title='deep model')"
      ],
      "execution_count": null,
      "outputs": [
        {
          "output_type": "display_data",
          "data": {
            "text/plain": [
              "<Figure size 600x400 with 1 Axes>"
            ],
            "image/png": "[encoded data removed]"
          },
          "metadata": {}
        }
      ]
    },
    {
      "cell_type": "code",
      "metadata": {
        "colab": {
          "base_uri": "https://localhost:8080/",
          "height": 487
        },
        "id": "3iZTVn5WQFpX",
        "outputId": "2e575677-aceb-4588-b0aa-6132993b35b3"
      },
      "source": [
        "del model\n",
        "model = NeuralNet(tr_set.dataset.dim).to(device)\n",
        "ckpt = torch.load(config['save_path'], map_location='cpu')  # Load your best model\n",
        "model.load_state_dict(ckpt)\n",
        "plot_pred(dv_set, model, device)  # Show prediction on the validation set"
      ],
      "execution_count": null,
      "outputs": [
        {
          "output_type": "display_data",
          "data": {
            "text/plain": [
              "<Figure size 500x500 with 1 Axes>"
            ],
            "image/png": "[encoded data removed]"
          },
          "metadata": {}
        }
      ]
    },
    {
      "cell_type": "markdown",
      "metadata": {
        "id": "aQikz3IPiyPf"
      },
      "source": [
        "# **Testing**\n",
        "The predictions of your model on testing set will be stored at `pred.csv`."
      ]
    },
    {
      "cell_type": "code",
      "metadata": {
        "colab": {
          "base_uri": "https://localhost:8080/"
        },
        "id": "O8cTuQjQQOon",
        "outputId": "06c927dd-d857-4930-ac9d-747368977e98"
      },
      "source": [
        "def save_pred(preds, file):\n",
        "    ''' Save predictions to specified file '''\n",
        "    print('Saving results to {}'.format(file))\n",
        "    with open(file, 'w') as fp:\n",
        "        writer = csv.writer(fp)\n",
        "        writer.writerow(['id', 'tested_positive'])\n",
        "        for i, p in enumerate(preds):\n",
        "            writer.writerow([i, p])\n",
        "\n",
        "preds = test(tt_set, model, device)  # predict COVID-19 cases with your model\n",
        "save_pred(preds, 'pred.csv')         # save prediction file to pred.csv"
      ],
      "execution_count": null,
      "outputs": [
        {
          "output_type": "stream",
          "name": "stdout",
          "text": [
            "Saving results to pred.csv\n"
          ]
        }
      ]
    },
    {
      "cell_type": "markdown",
      "metadata": {
        "id": "nfrVxqJanGpE"
      },
      "source": [
        "# 🧪 Baseline Model Summary\n",
        "\n",
        "---\n",
        "\n",
        "## ✅ Simple Baseline\n",
        "- ✅ Ran the provided sample code successfully.\n",
        "- 🔹 This serves as the basic pipeline without optimizations or feature engineering.\n",
        "\n",
        "---\n",
        "\n",
        "## 🔸 Medium Baseline\n",
        "\n",
        "### 🔍 Feature Selection\n",
        "- Selected 40 states + 2 `tested_positive` columns.\n",
        "- Originally, `tested_positive` was marked as `TODO` in the dataset.\n",
        "- ✅ Confirmed `tested_positive` features are among the most important for prediction.\n",
        "\n",
        "---\n",
        "\n",
        "## 💪 Strong Baseline\n",
        "\n",
        "### 🔍 Feature Selection\n",
        "- Feature selection is **crucial** when training data is limited.\n",
        "- Used **ANOVA F-test (`f_classif` from `sklearn`)** to identify the most informative features beyond `tested_positive`.\n",
        "\n",
        "---\n",
        "\n",
        "### 🧠 DNN Architecture\n",
        "- ✅ **Activation**: ReLU used instead of Sigmoid.\n",
        "  - 🔹 Avoids vanishing gradients.\n",
        "  - 🔹 Accelerates training convergence.\n",
        "- ✅ **Dropout** applied:\n",
        "  - Reduces overfitting.\n",
        "  - Slightly increases training loss due to added noise.\n",
        "  - ⚠️ Should evaluate validation loss, not just training loss.\n",
        "- ⚠️ **Batch Normalization**:\n",
        "  - Not recommended together with Dropout in small models — can interfere with learning.\n",
        "  - Use one at a time unless working with larger models.\n",
        "\n",
        "---\n",
        "\n",
        "### 🏋️ Training Setup\n",
        "\n",
        "- ✅ **Mini-batch size** reduced from `270 → 128`:\n",
        "  - More stochasticity.\n",
        "  - Powers of 2 are GPU-friendly.\n",
        "- ✅ **Optimizer**:\n",
        "  - **Adam**: Converges faster but risks overfitting on small models.\n",
        "  - **SGD**: Slower, but better generalization in small-data regimes.\n",
        "- ✅ **Learning rate** tuning:\n",
        "  - Consider scheduler (e.g., cosine annealing or step decay) when using SGD.\n",
        "\n",
        "---\n",
        "\n",
        "### 🧰 Regularization\n",
        "\n",
        "- ✅ **L2 Regularization**:\n",
        "  - Implemented via `weight_decay` in optimizer (e.g., PyTorch/TF).\n",
        "  - Helps reduce model complexity and overfitting.\n",
        "\n",
        "---\n",
        "\n",
        "## ⚠️ Code Mistakes & Fixes\n",
        "\n",
        "### ❌ Target-Only Normalization\n",
        "- The sample code normalizes only the **target variable**.\n",
        "- ✅ **Fix**: Normalize **input features as well**, after feature selection.\n",
        "\n",
        "### ❌ Data Leakage in Normalization\n",
        "- Original code normalizes using **all data** (train + test) — this is **data leakage**.\n",
        "- ✅ **Fix**:\n",
        "  - Compute normalization parameters (mean, std) **from training data only**.\n",
        "  - Apply the same transformation to validation and test sets.\n",
        "\n",
        "---\n",
        "\n",
        "> ✅ Next steps: Use validation curves and ablation studies to fine-tune architecture choices.\n",
        "\n",
        "\n"
      ]
    },
    {
      "cell_type": "markdown",
      "metadata": {
        "id": "9tmCwXgpot3t"
      },
      "source": [
        "# **Reference**\n",
        "This code is completely written by Heng-Jui Chang @ NTUEE.  \n",
        "Copying or reusing this code is required to specify the original author.\n",
        "\n",
        "E.g.  \n",
        "Source: Heng-Jui Chang @ NTUEE (https://github.com/ga642381/ML2021-Spring/blob/main/HW01/HW01.ipynb)\n"
      ]
    },
    {
      "cell_type": "code",
      "source": [
        "!git --version"
      ],
      "metadata": {
        "colab": {
          "base_uri": "https://localhost:8080/"
        },
        "id": "hRH0puBpbOh8",
        "outputId": "2274b50f-a1f7-42d8-89bf-d78eb7422033"
      },
      "execution_count": null,
      "outputs": [
        {
          "output_type": "stream",
          "name": "stdout",
          "text": [
            "git version 2.34.1\n"
          ]
        }
      ]
    },
    {
      "cell_type": "code",
      "source": [
        "!git config --global user.name \"ericsson0408\"\n",
        "!git config --global user.email \"ericsson.lahm@gmail.com\""
      ],
      "metadata": {
        "id": "Cj3Q5RH5bTmJ"
      },
      "execution_count": null,
      "outputs": []
    },
    {
      "cell_type": "code",
      "source": [
        "!git clone https://github.com/ericsson0408/MLHW.git"
      ],
      "metadata": {
        "colab": {
          "base_uri": "https://localhost:8080/"
        },
        "id": "fkvv7A0mbmPH",
        "outputId": "a81c9928-6190-4f7f-fdd8-defdefe4ada9"
      },
      "execution_count": null,
      "outputs": [
        {
          "output_type": "stream",
          "name": "stdout",
          "text": [
            "Cloning into 'MLHW'...\n",
            "warning: You appear to have cloned an empty repository.\n"
          ]
        }
      ]
    },
    {
      "cell_type": "code",
      "source": [
        "import nbformat\n",
        "from google.colab import drive\n",
        "\n",
        "# Save notebook to working directory\n",
        "notebook_path = 'ML2021-HW1.ipynb'\n",
        "\n",
        "with open(notebook_path, 'w') as f:\n",
        "    nbformat.write(nbformat.from_dict({\n",
        "        \"cells\": [],\n",
        "        \"metadata\": {},\n",
        "        \"nbformat\": 4,\n",
        "        \"nbformat_minor\": 0\n",
        "    }), f)"
      ],
      "metadata": {
        "id": "Upc8xcMKcgaG"
      },
      "execution_count": null,
      "outputs": []
    },
    {
      "cell_type": "code",
      "source": [
        "cp ML2021-HW1.ipynb MLHW/"
      ],
      "metadata": {
        "id": "Nu2cRPe1bxPB"
      },
      "execution_count": null,
      "outputs": []
    },
    {
      "cell_type": "code",
      "source": [
        "%cd MLHW\n",
        "!git add .\n",
        "!git commit -m \"Add notebook from Colab\""
      ],
      "metadata": {
        "colab": {
          "base_uri": "https://localhost:8080/"
        },
        "id": "Wj8YeOducmpk",
        "outputId": "a93cbb1d-2dac-4ad7-fca6-d6f4f9dc66af"
      },
      "execution_count": null,
      "outputs": [
        {
          "output_type": "stream",
          "name": "stdout",
          "text": [
            "/content/MLHW\n",
            "[main (root-commit) 485d1d0] Add notebook from Colab\n",
            " 1 file changed, 6 insertions(+)\n",
            " create mode 100644 ML2021-HW1.ipynb\n"
          ]
        }
      ]
    },
    {
      "cell_type": "code",
      "source": [],
      "metadata": {
        "id": "9FXQXqyIdBwz"
      },
      "execution_count": null,
      "outputs": []
    },
    {
      "cell_type": "code",
      "source": [],
      "metadata": {
        "colab": {
          "base_uri": "https://localhost:8080/"
        },
        "id": "eTNE7vIcdFgV",
        "outputId": "e3267e10-2aa2-4f07-bcf3-dacccbd4fcb7"
      },
      "execution_count": null,
      "outputs": [
        {
          "output_type": "stream",
          "name": "stdout",
          "text": [
            "Enumerating objects: 3, done.\n",
            "Counting objects:  33% (1/3)\rCounting objects:  66% (2/3)\rCounting objects: 100% (3/3)\rCounting objects: 100% (3/3), done.\n",
            "Delta compression using up to 2 threads\n",
            "Compressing objects:  50% (1/2)\rCompressing objects: 100% (2/2)\rCompressing objects: 100% (2/2), done.\n",
            "Writing objects:  33% (1/3)\rWriting objects:  66% (2/3)\rWriting objects: 100% (3/3)\rWriting objects: 100% (3/3), 284 bytes | 284.00 KiB/s, done.\n",
            "Total 3 (delta 0), reused 0 (delta 0), pack-reused 0\n",
            "To https://github.com/ericsson0408/MLHW.git\n",
            " * [new branch]      main -> main\n"
          ]
        }
      ]
    }
  ]
}