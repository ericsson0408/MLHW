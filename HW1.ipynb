{
  "nbformat": 4,
  "nbformat_minor": 0,
  "metadata": {
    "colab": {
      "provenance": [],
      "collapsed_sections": [
        "mz0_QVkxCrX3",
        "Jx3x1nDkG-Uy",
        "wS_4-77xHk44",
        "BtE3b6JEH7rw",
        "0up7noQ5JoCr",
        "TQ-MdwpLL7Dt",
        "AlhTlkE7MDo3",
        "xIEz5gHSyKnf",
        "DvFWVjZ5Nvga",
        "MAM8QecJOyqn",
        "6j1eOV3TOH-j"
      ]
    },
    "kernelspec": {
      "name": "python3",
      "display_name": "Python 3"
    },
    "accelerator": "GPU"
  },
  "cells": [
    {
      "cell_type": "markdown",
      "metadata": {
        "id": "mz0_QVkxCrX3"
      },
      "source": [
        "# **Homework 1: COVID-19 Cases Prediction (Regression)**"
      ]
    },
    {
      "cell_type": "markdown",
      "metadata": {
        "id": "ZeZnPAiwDRWG"
      },
      "source": [
        "Author: Heng-Jui Chang\n",
        "\n",
        "Slides: https://github.com/ga642381/ML2021-Spring/blob/main/HW01/HW01.pdf  \n",
        "Videos (Mandarin): https://cool.ntu.edu.tw/courses/4793/modules/items/172854  \n",
        "https://cool.ntu.edu.tw/courses/4793/modules/items/172853  \n",
        "\n",
        "Objectives:\n",
        "* Solve a regression problem with deep neural networks (DNN).\n",
        "* Understand basic DNN training tips.\n",
        "* Get familiar with PyTorch.\n",
        "\n"
      ]
    },
    {
      "cell_type": "markdown",
      "metadata": {
        "id": "Jx3x1nDkG-Uy"
      },
      "source": [
        "# **Download Data**\n",
        "\n",
        "\n",
        "If the Google drive links are dead, you can download data from [kaggle](https://www.kaggle.com/c/ml2021spring-hw1/data), and upload data manually to the workspace."
      ]
    },
    {
      "cell_type": "code",
      "metadata": {
        "colab": {
          "base_uri": "https://localhost:8080/"
        },
        "id": "tMj55YDKG6ch",
        "outputId": "4fa69c71-58d5-42a7-8304-fe55be72e065"
      },
      "source": [
        "!gdown --id 1Ah5uV6cu3Bnz6WfkUuxEZCLqj5k1lbpd\n",
        "\n",
        "#這兩行程式是設定訓練資料（training data）與測試資料（testinlg data）的檔案名稱。後續載入資料時會使用這兩個變數。\n",
        "tr_path = 'covid.train.csv'  # path to training data\n",
        "tt_path = 'covid.test.csv'   # path to testing data\n",
        "\n",
        "#這行使用 gdown 這個工具（可從 Google Drive 下載檔案）來：\n",
        "#從 Google Drive 上的檔案 ID 為 '19CCyCgJrUxtvgZF53vnctJiOJ23T5mqF' 下載檔案\n",
        "#儲存為本地檔案 covid.train.csv這就是訓練資料檔案。\n",
        "!gdown --id '19CCyCgJrUxtvgZF53vnctJiOJ23T5mqF' --output covid.train.csv\n",
        "!gdown --id '1CE240jLm2npU-tdz81-oVKEF3T2yfT1O' --output covid.test.csv"
      ],
      "execution_count": 243,
      "outputs": [
        {
          "output_type": "stream",
          "name": "stdout",
          "text": [
            "/usr/local/lib/python3.11/dist-packages/gdown/__main__.py:140: FutureWarning: Option `--id` was deprecated in version 4.3.1 and will be removed in 5.0. You don't need to pass it anymore to use a file ID.\n",
            "  warnings.warn(\n",
            "Traceback (most recent call last):\n",
            "  File \"/usr/lib/python3.11/http/client.py\", line 1395, in getresponse\n",
            "    response.begin()\n",
            "  File \"/usr/lib/python3.11/http/client.py\", line 325, in begin\n",
            "    version, status, reason = self._read_status()\n",
            "                              ^^^^^^^^^^^^^^^^^^^\n",
            "  File \"/usr/lib/python3.11/http/client.py\", line 286, in _read_status\n",
            "    line = str(self.fp.readline(_MAXLINE + 1), \"iso-8859-1\")\n",
            "               ^^^^^^^^^^^^^^^^^^^^^^^^^^^^^^\n",
            "  File \"/usr/lib/python3.11/socket.py\", line 718, in readinto\n",
            "    return self._sock.recv_into(b)\n",
            "           ^^^^^^^^^^^^^^^^^^^^^^^\n",
            "  File \"/usr/lib/python3.11/ssl.py\", line 1314, in recv_into\n",
            "    return self.read(nbytes, buffer)\n",
            "           ^^^^^^^^^^^^^^^^^^^^^^^^^\n",
            "  File \"/usr/lib/python3.11/ssl.py\", line 1166, in read\n",
            "    return self._sslobj.read(len, buffer)\n",
            "           ^^^^^^^^^^^^^^^^^^^^^^^^^^^^^^\n",
            "KeyboardInterrupt\n",
            "\n",
            "During handling of the above exception, another exception occurred:\n",
            "\n",
            "Traceback (most recent call last):\n",
            "  File \"/usr/local/bin/gdown\", line 10, in <module>\n",
            "    sys.exit(main())\n",
            "             ^^^^^^\n",
            "  File \"/usr/local/lib/python3.11/dist-packages/gdown/__main__.py\", line 172, in main\n",
            "    download(\n",
            "  File \"/usr/local/lib/python3.11/dist-packages/gdown/download.py\", line 202, in download\n",
            "    res = sess.get(url, stream=True, verify=verify)\n",
            "          ^^^^^^^^^^^^^^^^^^^^^^^^^^^^^^^^^^^^^^^^^\n",
            "  File \"/usr/local/lib/python3.11/dist-packages/requests/sessions.py\", line 602, in get\n",
            "    return self.request(\"GET\", url, **kwargs)\n",
            "           ^^^^^^^^^^^^^^^^^^^^^^^^^^^^^^^^^^\n",
            "  File \"/usr/local/lib/python3.11/dist-packages/requests/sessions.py\", line 589, in request\n",
            "    resp = self.send(prep, **send_kwargs)\n",
            "           ^^^^^^^^^^^^^^^^^^^^^^^^^^^^^^\n",
            "  File \"/usr/local/lib/python3.11/dist-packages/requests/sessions.py\", line 724, in send\n",
            "    history = [resp for resp in gen]\n",
            "              ^^^^^^^^^^^^^^^^^^^^^^\n",
            "  File \"/usr/local/lib/python3.11/dist-packages/requests/sessions.py\", line 724, in <listcomp>\n",
            "    history = [resp for resp in gen]\n",
            "              ^^^^^^^^^^^^^^^^^^^^^^\n",
            "  File \"/usr/local/lib/python3.11/dist-packages/requests/sessions.py\", line 265, in resolve_redirects\n",
            "    resp = self.send(\n",
            "           ^^^^^^^^^^\n",
            "  File \"/usr/local/lib/python3.11/dist-packages/requests/sessions.py\", line 703, in send\n",
            "    r = adapter.send(request, **kwargs)\n",
            "        ^^^^^^^^^^^^^^^^^^^^^^^^^^^^^^^\n",
            "  File \"/usr/local/lib/python3.11/dist-packages/requests/adapters.py\", line 667, in send\n",
            "    resp = conn.urlopen(\n",
            "           ^^^^^^^^^^^^^\n",
            "  File \"/usr/local/lib/python3.11/dist-packages/urllib3/connectionpool.py\", line 787, in urlopen\n",
            "    response = self._make_request(\n",
            "               ^^^^^^^^^^^^^^^^^^^\n",
            "  File \"/usr/local/lib/python3.11/dist-packages/urllib3/connectionpool.py\", line 534, in _make_request\n",
            "    response = conn.getresponse()\n",
            "               ^^^^^^^^^^^^^^^^^^\n",
            "  File \"/usr/local/lib/python3.11/dist-packages/urllib3/connection.py\", line 565, in getresponse\n",
            "    httplib_response = super().getresponse()\n",
            "                       ^^^^^^^^^^^^^^^^^^^^^\n",
            "  File \"/usr/lib/python3.11/http/client.py\", line 1411, in getresponse\n",
            "    response.close()\n",
            "  File \"/usr/lib/python3.11/http/client.py\", line 424, in close\n",
            "    def close(self):\n",
            "\n",
            "KeyboardInterrupt\n",
            "^C\n",
            "/usr/local/lib/python3.11/dist-packages/gdown/__main__.py:140: FutureWarning: Option `--id` was deprecated in version 4.3.1 and will be removed in 5.0. You don't need to pass it anymore to use a file ID.\n",
            "  warnings.warn(\n",
            "Downloading...\n",
            "From: https://drive.google.com/uc?id=19CCyCgJrUxtvgZF53vnctJiOJ23T5mqF\n",
            "To: /content/covid.train.csv\n",
            "100% 2.00M/2.00M [00:00<00:00, 17.8MB/s]\n",
            "/usr/local/lib/python3.11/dist-packages/gdown/__main__.py:140: FutureWarning: Option `--id` was deprecated in version 4.3.1 and will be removed in 5.0. You don't need to pass it anymore to use a file ID.\n",
            "  warnings.warn(\n",
            "Downloading...\n",
            "From: https://drive.google.com/uc?id=1CE240jLm2npU-tdz81-oVKEF3T2yfT1O\n",
            "To: /content/covid.test.csv\n",
            "100% 651k/651k [00:00<00:00, 8.65MB/s]\n"
          ]
        }
      ]
    },
    {
      "cell_type": "markdown",
      "metadata": {
        "id": "wS_4-77xHk44"
      },
      "source": [
        "# **Import Some Packages**"
      ]
    },
    {
      "cell_type": "code",
      "metadata": {
        "id": "k-onQd4JNA5H"
      },
      "source": [
        "# 這三行是 PyTorch 的核心模組，功能如下：\n",
        "# torch: Tensor 操作、模型計算等的主要工具\n",
        "# torch.nn: 提供深度學習中常用的神經網路層（如 Linear、ReLU 等）\n",
        "# Dataset 與 DataLoader: 處理自定義資料集與小批量資料的迭代器（batch training）\n",
        "import torch\n",
        "import torch.nn as nn\n",
        "from torch.utils.data import Dataset, DataLoader\n",
        "\n",
        "# 這些套件是用來進行前處理的：\n",
        "# numpy: 常用的數值運算（例如標準化、矩陣操作）\n",
        "# csv: 處理 .csv 格式資料的原始方法\n",
        "# os: 處理路徑與檔案操作，例如檢查檔案是否存在等\n",
        "import numpy as np\n",
        "import csv\n",
        "import os\n",
        "\n",
        "# 這部分是用來畫圖，常用於：\n",
        "# 損失函數（loss）或準確率（accuracy）的變化圖\n",
        "# 模型訓練過程的視覺化\n",
        "# 結果的展示（例如模型預測 vs 真實值）\n",
        "import matplotlib.pyplot as plt\n",
        "from matplotlib.pyplot import figure\n",
        "\n",
        "\n",
        "# 這段非常關鍵，用來確保模型訓練的結果可重現。說明如下：\n",
        "# myseed = 42069：自訂的亂數種子值\n",
        "\n",
        "# 許多 GPU 上的高效運算（例如 convolution、pooling）會有多種演算法實作。\n",
        "# cuDNN/CUDA 會根據當下硬體條件挑選最快的方式，但有些實作是非確定性的。\n",
        "# 這意味著：相同輸入 ➜ 有可能產生不同輸出。\n",
        "# torch.backends.cudnn.deterministic = True：強制 cudnn 使用確定性算法（可重現但可能較慢）\n",
        "# torch.backends.cudnn.benchmark = False：禁用動態最佳化（因為會導致不可預測性）\n",
        "# np.random.seed(myseed)：固定 NumPy 的隨機性\n",
        "# torch.manual_seed(myseed)：固定 CPU 上的 PyTorch 隨機性\n",
        "# torch.cuda.manual_seed_all(myseed)：若使用 GPU，固定 GPU 上的隨機性\n",
        "\n",
        "# 為什麼要設定 seed？\n",
        "# 深度學習過程中，許多步驟都涉及隨機性，例如：\n",
        "# 權重初始化 -> 每層的 weight 隨機生成\n",
        "# 資料增強 / 抽樣順序 -> 每個 epoch shuffle\n",
        "# dropout -> 每次會隨機遮掉神經元\n",
        "# batchnorm -> 依據 batch 計算 mean/std\n",
        "# torch.randn / np.random.randn -> 明確的亂數產生\n",
        "\n",
        "myseed = 42077\n",
        "torch.backends.cudnn.deterministic = True\n",
        "torch.backends.cudnn.benchmark = False\n",
        "np.random.seed(myseed)\n",
        "torch.manual_seed(myseed)\n",
        "if torch.cuda.is_available():\n",
        "    torch.cuda.manual_seed_all(myseed)"
      ],
      "execution_count": 244,
      "outputs": []
    },
    {
      "cell_type": "markdown",
      "metadata": {
        "id": "BtE3b6JEH7rw"
      },
      "source": [
        "# **Some Utilities**\n",
        "\n",
        "You do not need to modify this part."
      ]
    },
    {
      "cell_type": "code",
      "metadata": {
        "id": "FWMT3uf1NGQp"
      },
      "source": [
        "#Get device (if GPU is available, use GPU)\n",
        "def get_device():\n",
        "    return 'cuda' if torch.cuda.is_available() else 'cpu'\n",
        "\n",
        "#畫出訓練過程中的 Train Loss vs Dev Loss（驗證損失）曲線\n",
        "#Train Loss（訓練損失）：模型在訓練資料（training set）上的平均誤差。\n",
        "#Dev Loss（開發集損失）：模型在驗證資料（validation set，也叫 dev set）上的平均誤差。\n",
        "#每個 epoch 結束後，使用 model.eval() + torch.no_grad() 在驗證集上預測，然後計算損失。\n",
        "def plot_learning_curve(loss_record, title=''):\n",
        "    total_steps = len(loss_record['train'])\n",
        "    x_1 = range(total_steps)\n",
        "    x_2 = x_1[::len(loss_record['train']) // len(loss_record['dev'])]\n",
        "    figure(figsize=(6, 4))\n",
        "    plt.plot(x_1, loss_record['train'], c='tab:red', label='train')\n",
        "    plt.plot(x_2, loss_record['dev'], c='tab:cyan', label='dev')\n",
        "    plt.ylim(0.0, 5.)\n",
        "    plt.xlabel('Training steps')\n",
        "    plt.ylabel('MSE loss')\n",
        "    plt.title('Learning curve of {}'.format(title))\n",
        "    plt.legend()\n",
        "    plt.show()\n",
        "\n",
        "\n",
        "\n",
        "from sklearn.metrics import r2_score, mean_squared_error\n",
        "\n",
        "#畫出模型預測值 vs 真實值（ground truth）的散佈圖，幫助你視覺化預測準確度\n",
        "#紅點越靠近藍線 → 預測越準確\n",
        "#點均勻分布在藍線兩側且無明顯偏離趨勢 → 模型沒有系統性誤差（bias）\n",
        "def plot_pred(dv_set, model, device, lim=35., preds=None, targets=None):\n",
        "    if preds is None or targets is None:\n",
        "        model.eval()\n",
        "        preds, targets = [], []\n",
        "        for x, y in dv_set:\n",
        "            x, y = x.to(device), y.to(device)\n",
        "            with torch.no_grad():\n",
        "                pred = model(x)\n",
        "                preds.append(pred.detach().cpu())\n",
        "                targets.append(y.detach().cpu())\n",
        "        preds = torch.cat(preds, dim=0).numpy()\n",
        "        targets = torch.cat(targets, dim=0).numpy()\n",
        "\n",
        "    figure(figsize=(5, 5))\n",
        "    plt.scatter(targets, preds, c='r', alpha=0.5)\n",
        "    plt.plot([-0.2, lim], [-0.2, lim], c='b')\n",
        "    plt.xlim(-0.2, lim)\n",
        "    plt.ylim(-0.2, lim)\n",
        "    plt.xlabel('ground truth value')\n",
        "    plt.ylabel('predicted value')\n",
        "    plt.title('Ground Truth v.s. Prediction')\n",
        "    ###\n",
        "    r2 = r2_score(targets, preds)\n",
        "    mse = mean_squared_error(targets, preds)\n",
        "    plt.text(2, 32, f'R²: {r2:.3f}\\nMSE: {mse:.3f}', fontsize=12, bbox=dict(facecolor='white', alpha=0.8))\n",
        "    ####\n",
        "    plt.show()"
      ],
      "execution_count": 245,
      "outputs": []
    },
    {
      "cell_type": "markdown",
      "metadata": {
        "id": "39U_XFX6KOoj"
      },
      "source": [
        "# **Preprocess**\n",
        "\n",
        "We have three kinds of datasets:\n",
        "* `train`: for training\n",
        "* `dev`: for validation\n",
        "* `test`: for testing (w/o target value)"
      ]
    },
    {
      "cell_type": "markdown",
      "source": [
        "## Feature Selection"
      ],
      "metadata": {
        "id": "0up7noQ5JoCr"
      }
    },
    {
      "cell_type": "markdown",
      "source": [
        "⚠️ 1. 特徵過多導致訓練效率低下\n",
        "\n",
        "若有大量結構化特徵（如實驗數據、Vitals、ICD codes），仍可能因維度過高造成訓練困難，這時 feature selection 可以減少 noise。\n",
        "\n",
        "⚠️ 2. 資料樣本數不夠時\n",
        "\n",
        "深度模型在小樣本下容易 overfitting，這時減少特徵維度能提升泛化能力。\n",
        "\n",
        "⚠️ 3. 可解釋性需求高時\n",
        "\n",
        "醫療領域常需要解釋模型決策，這時預先挑選關鍵特徵有助於後續模型詮釋。"
      ],
      "metadata": {
        "id": "FXAiniabxcoP"
      }
    },
    {
      "cell_type": "markdown",
      "source": [
        "###Feature Selection Explain"
      ],
      "metadata": {
        "id": "n2yPzvgUxg-n"
      }
    },
    {
      "cell_type": "markdown",
      "source": [
        "這段程式碼是導入 Scikit-learn（sklearn） 套件中與「特徵選擇與標準化」有關的模組，常用於資料前處理與降維。\n",
        "\n",
        "📌 from sklearn.feature_selection import SelectKBest\n",
        "這是導入一個特徵選擇工具：\n",
        "\n",
        "🎯 功能：從全部特徵中選出前 K 個「與目標變數最相關」的特徵\n",
        "這是進行降維與特徵工程常見的第一步，可幫助：\n",
        "移除不相關/冗餘特徵\n",
        "降低過擬合風險\n",
        "提升模型訓練效率與可解釋性\n",
        "\n",
        "📌 from sklearn.feature_selection import f_regression\n",
        "這是 SelectKBest 所需的 打分機制（scoring function）。\n",
        "\n",
        "🎯 功能：對每個數值型特徵計算與連續型目標（回歸任務）間的線性關聯性（F 分數）\n",
        "底層使用 ANOVA F-test，分數越高代表該特徵對目標值影響越大。\n",
        "\n",
        "📌 from sklearn import preprocessing\n",
        "這是導入 sklearn 中常用的資料前處理模組，裡面包含許多工具，例如：\n",
        "\n",
        "| 常用功能       | 用途                                  |\n",
        "|----------------|---------------------------------------|\n",
        "| StandardScaler | Z-score 標準化（均值 0、標準差 1）    |\n",
        "| MinMaxScaler   | 將數據縮放到 0～1 區間                |\n",
        "| LabelEncoder   | 將分類標籤轉為數字                    |\n",
        "| OneHotEncoder  | 類別變數轉為 one-hot                  |\n",
        "\n",
        "➡️ 可用來進行正規化、標準化、特徵轉換等操作。\n",
        "\n",
        "SelectKBest(f_regression) 挑出 對目標變數影響最大的前幾個特徵。\n",
        "✅ 根據 F-score 排序後，選出的「最佳特徵索引」清單\n",
        "selected_features = [75, 57, 42, 60, 78, ...]\n",
        "X_selected = X[:, selected_features]"
      ],
      "metadata": {
        "id": "rfx5_w6fLawd"
      }
    },
    {
      "cell_type": "code",
      "source": [
        "# Pandas\n",
        "import pandas as pd\n",
        "\n",
        "# Sklearn\n",
        "from sklearn.feature_selection import SelectKBest\n",
        "from sklearn.feature_selection import f_regression\n",
        "from sklearn import preprocessing\n",
        "\n",
        "# Feature Selection\n",
        "\n",
        "data = pd.read_csv(r'covid.train.csv')\n",
        "x = data[data.columns[1:94]]\n",
        "y = data[data.columns[94]]\n",
        "\n",
        "# Normalisation\n",
        "x = (x - x.min()) / (x.max() - x.min())\n",
        "\n",
        "# Create an instance of SelectKBest without specifying 'k'\n",
        "bestfeatures = SelectKBest(score_func=f_regression)\n",
        "\n",
        "# Compute the scores for all features\n",
        "fit = bestfeatures.fit(x,y)\n",
        "\n",
        "# Convert the scores into a DataFrame\n",
        "dfscores = pd.DataFrame(fit.scores_)\n",
        "\n",
        "# Create a DataFrame of the column names\n",
        "dfcolumns = pd.DataFrame(x.columns)\n",
        "\n",
        "# Concatenate the two DataFrames for better visualization\n",
        "featureScores = pd.concat([dfcolumns,dfscores],axis=1)\n",
        "\n",
        "# Name the DataFrame columns\n",
        "featureScores.columns = ['Specs','Score']\n",
        "\n",
        "# Print the 20 rows with the highest scores\n",
        "print(featureScores.nlargest(20,'Score'))\n",
        "\n",
        "# Print the index of the most important features\n",
        "top_rows = featureScores.nlargest(20, 'Score').index.tolist()[:17]\n",
        "print(top_rows)"
      ],
      "metadata": {
        "colab": {
          "base_uri": "https://localhost:8080/"
        },
        "id": "4YzXEi2tJocz",
        "outputId": "2f06e626-f89f-44d1-8b9f-19cc70a31987"
      },
      "execution_count": 246,
      "outputs": [
        {
          "output_type": "stream",
          "name": "stdout",
          "text": [
            "                 Specs          Score\n",
            "75   tested_positive.1  148069.658278\n",
            "57     tested_positive   69603.872591\n",
            "42        hh_cmnty_cli    9235.492094\n",
            "60      hh_cmnty_cli.1    9209.019558\n",
            "78      hh_cmnty_cli.2    9097.375172\n",
            "43      nohh_cmnty_cli    8395.421300\n",
            "61    nohh_cmnty_cli.1    8343.255927\n",
            "79    nohh_cmnty_cli.2    8208.176435\n",
            "40                 cli    6388.906849\n",
            "58               cli.1    6374.548000\n",
            "76               cli.2    6250.008702\n",
            "41                 ili    5998.922880\n",
            "59               ili.1    5937.588576\n",
            "77               ili.2    5796.947672\n",
            "92  worried_finances.2     833.613191\n",
            "74  worried_finances.1     811.916460\n",
            "56    worried_finances     788.076931\n",
            "87    public_transit.2     686.736539\n",
            "69    public_transit.1     681.562902\n",
            "51      public_transit     678.834789\n",
            "[75, 57, 42, 60, 78, 43, 61, 79, 40, 58, 76, 41, 59, 77, 92, 74, 56]\n"
          ]
        }
      ]
    },
    {
      "cell_type": "markdown",
      "metadata": {
        "id": "TQ-MdwpLL7Dt"
      },
      "source": [
        "## **Dataset**\n",
        "\n",
        "The `COVID19Dataset` below does:\n",
        "* read `.csv` files\n",
        "* extract features\n",
        "* split `covid.train.csv` into train/dev sets\n",
        "* normalize features\n",
        "\n",
        "Finishing `TODO` below might make you pass medium baseline.\n",
        "\n",
        "讓target_only = True 然後用我們的Feature Selection\n",
        "\n",
        "### 🎯 若你想再進一步：\n",
        "\n",
        "| 目標               | 可做的升級                                                |\n",
        "|--------------------|-----------------------------------------------------------|\n",
        "| 更動特徵不改程式碼 | 將 `feats` 存成外部檔案（例如 `.npy` 或 `.json`）動態讀入 |\n",
        "| 多標籤任務         | 支援 `target = data[:, -n:]`，處理多欄目標輸出              |\n",
        "| 使用資料標頭       | 若 CSV 含欄位名稱，改用 `pandas` 並建立特徵名稱對應表       |"
      ]
    },
    {
      "cell_type": "code",
      "metadata": {
        "id": "0zlpIp9ANJRU"
      },
      "source": [
        "class COVID19Dataset(Dataset):\n",
        "    ''' Dataset for loading and preprocessing the COVID19 dataset '''\n",
        "    def __init__(self,\n",
        "                 path,\n",
        "                 mode='train',\n",
        "                 target_only=True,\n",
        "                 mean=None,\n",
        "                 std=None):\n",
        "      ##讓target_only = True 然後用我們的Feature Selection\n",
        "        self.mode = mode\n",
        "\n",
        "\n",
        "      # --- 1) load raw data and select features --------------------\n",
        "        # Read data into numpy arrays\n",
        "        # 去掉標頭列與第一欄 id\n",
        "        with open(path, 'r') as fp:\n",
        "            data = list(csv.reader(fp))\n",
        "            data = np.array(data[1:])[:, 1:].astype(float)\n",
        "\n",
        "        if not target_only:\n",
        "            feats = list(range(data.shape[1] - (mode != 'test')))\n",
        "        else:\n",
        "            # TODO: Using 40 states & 2 tested_positive features (indices = 57 & 75)\n",
        "            # 來自 SelectKBest(f_regression) 的排名\n",
        "            feats = [75, 57, 42, 60, 78, 43, 61, 79, 40, 58, 76, 41, 59, 77, 92, 74, 56]\n",
        "\n",
        "\n",
        "        # test 模式不含標籤，只回傳特徵\n",
        "        # train/dev 模式：抽出最後一欄作為 label（ground truth）\n",
        "        if mode == 'test':\n",
        "            # Testing data\n",
        "            # data: 893 x 93 (40 states + day 1 (18) + day 2 (18) + day 3 (17))\n",
        "            target = None\n",
        "            data = data[:, feats]\n",
        "            self.data = torch.FloatTensor(data)\n",
        "        else:\n",
        "            # Training data (train/dev sets)\n",
        "            # data: 2700 x 94 (40 states + day 1 (18) + day 2 (18) + day 3 (18))\n",
        "            target = data[:, -1]\n",
        "            data = data[:, feats]\n",
        "\n",
        "\n",
        "        # --- 2) split indices ----------------------------------------\n",
        "            # Splitting training data into train & dev sets\n",
        "            #保持可重現的 9:1 定點切分\n",
        "        if mode == 'train':\n",
        "            indices = [i for i in range(len(data)) if i % 10 != 0]\n",
        "        elif mode == 'dev':\n",
        "            indices = [i for i in range(len(data)) if i % 10 == 0]\n",
        "        else:\n",
        "            indices  = list(range(len(data)))\n",
        "\n",
        "        train_data = data[indices]\n",
        "\n",
        "        # Convert data into PyTorch tensors\n",
        "        if mode != 'test':\n",
        "          self.target = torch.FloatTensor(target[indices])\n",
        "\n",
        "        # --- 3) normalize --------------------------------------------\n",
        "\n",
        "        # 作者原本希望在使用全部特徵時（target_only=False）：前 40 個特徵是州別類別（不標準化），從第 40 維開始才做標準化\n",
        "        # 使用 target_only=True（例如只取幾個精選特徵）：有可能會把前 40 維都拿掉（如只保留第 57、75 等）\n",
        "        # 在 target_only=True 的情況下，這段根本不會執行（因為維度只有17）\n",
        "        # 等於你實際沒做任何標準化，這會讓特徵值尺度不一，模型訓練不穩\n",
        "        # this is incorrect after feature selection: normalize_start_index = 40\n",
        "        # after feature selection, we ignore one Hot features, hence we can normalize everything\n",
        "\n",
        "        eps = 1e-8\n",
        "        if self.mode == 'train':\n",
        "            train_mean = train_data.mean(axis=0, keepdims=True)\n",
        "            train_std  = train_data.std(axis=0,  keepdims=True) + eps\n",
        "        # On the other hand the orignial code normalized everything\n",
        "        # making data leakage from the dev & test data\n",
        "        else:\n",
        "            assert mean is not None and std is not None, \"Dev/test require train mean/std\"\n",
        "            train_mean, train_std = mean, std\n",
        "\n",
        "        normalized = (train_data - train_mean) / train_std\n",
        "        self.data  = torch.FloatTensor(normalized)\n",
        "        self.mean, self.std = train_mean, train_std\n",
        "        self.dim = self.data.shape[1]\n",
        "\n",
        "        print('Finished reading the {} set of COVID19 Dataset ({} samples found, each dim = {})'\n",
        "              .format(mode, len(self.data), self.dim))\n",
        "\n",
        "    def __getitem__(self, index):\n",
        "        # Returns one sample at a time\n",
        "        if self.mode in ['train', 'dev']:\n",
        "            # For training 訓練或驗證模型時用，必須包含真實標籤\n",
        "            return self.data[index], self.target[index]\n",
        "        else:\n",
        "            # For testing (no target) 測試階段無標籤，模型只會做預測\n",
        "            return self.data[index]\n",
        "\n",
        "    #這讓 DataLoader 知道一共要跑幾輪、幾個 batch。\n",
        "    def __len__(self):\n",
        "        # Returns the size of the dataset\n",
        "        return len(self.data)"
      ],
      "execution_count": 247,
      "outputs": []
    },
    {
      "cell_type": "markdown",
      "metadata": {
        "id": "AlhTlkE7MDo3"
      },
      "source": [
        "## **DataLoader**\n",
        "\n",
        "A `DataLoader` loads data from a given `Dataset` into batches.\n",
        "\n",
        "✅ 根據模式（train/dev/test）建立 COVID19Dataset，然後包裝成 DataLoader，提供給模型迭代讀取。\n",
        "\n",
        "✅ 將你定義好的 Dataset，打包成「一批一批的資料」，讓模型在訓練或推論時高效、有條理地讀取。\n",
        "\n"
      ]
    },
    {
      "cell_type": "markdown",
      "source": [
        "### 🔍 DataLoader 能做什麼？功能總覽\n",
        "\n"
      ],
      "metadata": {
        "id": "xIEz5gHSyKnf"
      }
    },
    {
      "cell_type": "markdown",
      "source": [
        "| 功能               | 說明                                                        |\n",
        "|--------------------|-------------------------------------------------------------|\n",
        "| **Batching（分批）**       | 將資料切成每批 `batch_size` 筆                              |\n",
        "| **Shuffling（隨機排序）** | 每次訓練打亂順序，提升泛化能力                               |\n",
        "| **Multi-processing（多執行緒讀取）** | 平行從硬碟或記憶體讀取，加快速度                    |\n",
        "| **Pin Memory**      | 用 pinned memory 提升 GPU 資料傳輸效率                       |\n",
        "| **Drop last**       | 控制是否丟棄最後不足一整批的資料                              |\n",
        "| **Iterable**        | 可用 `for batch in dataloader:` 的方式逐批取資料              |\n",
        "\n",
        "\n",
        "####Shuffle\n",
        "每個 epoch 開始前，重新隨機排列 Dataset 的索引順序。\n",
        "這可避免模型依賴資料的既定排列（例如所有陽性病例都在一起），強迫它從資料本身學到泛化規律。\n",
        "- 如有極端不均衡資料時，光打亂可能不足以解決偏斜。\n",
        "- 若你的資料帶有時間序列依賴（e.g. 逐日疫情走勢），則應改用自訂 Sampler 以保留時序結構。\n",
        "\n",
        "####Drop_last\n",
        "資料筆數若無法整除 batch_size，最後不足一整批的樣本是否 直接棄掉。\n",
        "設 False ⇒ 保留零碎 batch；設 True ⇒ 直接忽略。\n",
        "- 設 True 會丟失少量資料（約 < 1 × batch_size）。\n",
        "- 設 False 時，最後一批樣本數量變少，BN/Dropout 統計稍有偏差，但通常影響可忽略。\n",
        "\n",
        "####Pin_memory\n",
        "使用 CUDA 時，先在 page-locked（pinned）主記憶體 配置張量，再一次性 DMA 拷貝到 GPU，減少 CPU ↔ GPU 傳輸延遲。\n",
        "影像、表格、時間序列… 只要 GPU 訓練，一律 pin_memory=True；若記憶體吃緊，可視情況關閉或降低 batch_size。\n"
      ],
      "metadata": {
        "id": "4ckaqnF4yfQo"
      }
    },
    {
      "cell_type": "markdown",
      "source": [
        "###實作"
      ],
      "metadata": {
        "id": "D03P_5tRymTb"
      }
    },
    {
      "cell_type": "code",
      "metadata": {
        "id": "hlhLk5t6MBX3"
      },
      "source": [
        "def prep_dataloader(path, mode, batch_size, n_jobs=0, target_only=False, mean=None, std=None):\n",
        "    ''' Generates a dataset, then is put into a dataloader. '''\n",
        "    dataset = COVID19Dataset(path, mode=mode, target_only=target_only, mean=mean, std=std)  # Construct dataset\n",
        "    dataloader = DataLoader(\n",
        "        dataset, batch_size,\n",
        "        shuffle=(mode == 'train'), drop_last=False,\n",
        "        num_workers=n_jobs, pin_memory=True)                           # Construct dataloader\n",
        "    return dataloader, dataset.mean, dataset.std"
      ],
      "execution_count": 248,
      "outputs": []
    },
    {
      "cell_type": "markdown",
      "metadata": {
        "id": "SGuycwR0MeQB"
      },
      "source": [
        "# **Deep Neural Network**\n",
        "\n",
        "`NeuralNet` is an `nn.Module` designed for regression.\n",
        "The DNN consists of 2 fully-connected layers with ReLU activation.\n",
        "This module also included a function `cal_loss` for calculating loss.\n"
      ]
    },
    {
      "cell_type": "code",
      "metadata": {
        "id": "49-uXYovOAI0"
      },
      "source": [
        "class NeuralNet(nn.Module):\n",
        "    ''' A simple fully-connected deep neural network '''\n",
        "    def __init__(self, input_dim):\n",
        "        super(NeuralNet, self).__init__()\n",
        "\n",
        "        # Define your neural network here\n",
        "        # TODO: How to modify this model to achieve better performance?\n",
        "        self.net = nn.Sequential(\n",
        "            nn.Linear(input_dim, 64),\n",
        "            nn.BatchNorm1d(64),\n",
        "            nn.ReLU(),\n",
        "            nn.Dropout(0.03),\n",
        "            nn.Linear(64, 16),\n",
        "            nn.BatchNorm1d(16),\n",
        "            nn.ReLU(),\n",
        "            nn.Dropout(0.05),\n",
        "            nn.Linear(16, 1)\n",
        "        )\n",
        "\n",
        "\n",
        "        # Mean squared error loss\n",
        "        self.criterion = nn.MSELoss(reduction='mean')\n",
        "\n",
        "    def forward(self, x):\n",
        "        ''' Given input of size (batch_size x input_dim), compute output of the network '''\n",
        "        return self.net(x).squeeze(1)\n",
        "\n",
        "\n",
        "    #L2 對所有權重施加「平方懲罰」，使參數趨向小但不為 0\n",
        "    #L1 在 optimization 過程中對 gradient 的導數是非連續的（在 0 處），訓練不如 L2 穩定\n",
        "    def cal_loss(self, pred, target):\n",
        "        ''' Calculate loss '''\n",
        "        # TODO: you may implement L1/L2 regularization here\n",
        "        # Do it in the Config\n",
        "        return self.criterion(pred, target)\n"
      ],
      "execution_count": 293,
      "outputs": []
    },
    {
      "cell_type": "markdown",
      "metadata": {
        "id": "DvFWVjZ5Nvga"
      },
      "source": [
        "# **Train/Dev/Test**"
      ]
    },
    {
      "cell_type": "markdown",
      "metadata": {
        "id": "MAM8QecJOyqn"
      },
      "source": [
        "## **Training**"
      ]
    },
    {
      "cell_type": "code",
      "metadata": {
        "id": "lOqcmYzMO7jB"
      },
      "source": [
        "def train(tr_set, dv_set, model, config, device):\n",
        "    ''' DNN training '''\n",
        "\n",
        "    n_epochs = config['n_epochs']  # Maximum number of epochs\n",
        "\n",
        "    # Setup optimizer\n",
        "    optimizer = getattr(torch.optim, config['optimizer'])(\n",
        "        model.parameters(), **config['optim_hparas'])\n",
        "\n",
        "    min_mse = 1000.\n",
        "    loss_record = {'train': [], 'dev': []}      # for recording training loss\n",
        "    early_stop_cnt = 0\n",
        "    epoch = 0\n",
        "    while epoch < n_epochs:\n",
        "        model.train()                           # set model to training mode\n",
        "        for x, y in tr_set:                     # iterate through the dataloader\n",
        "            optimizer.zero_grad()               # set gradient to zero\n",
        "            x, y = x.to(device), y.to(device)   # move data to device (cpu/cuda)\n",
        "            pred = model(x)                     # forward pass (compute output)\n",
        "            mse_loss = model.cal_loss(pred, y)  # compute loss\n",
        "            mse_loss.backward()                 # compute gradient (backpropagation)\n",
        "            optimizer.step()                    # update model with optimizer\n",
        "            loss_record['train'].append(mse_loss.detach().cpu().item())\n",
        "\n",
        "        # After each epoch, test your model on the validation (development) set.\n",
        "        dev_mse = dev(dv_set, model, device)\n",
        "        if dev_mse < min_mse:\n",
        "            # Save model if your model improved\n",
        "            min_mse = dev_mse\n",
        "            print('Saving model (epoch = {:4d}, loss = {:.4f})'\n",
        "                .format(epoch + 1, min_mse))\n",
        "            torch.save(model.state_dict(), config['save_path'])  # Save model to specified path\n",
        "            early_stop_cnt = 0\n",
        "        else:\n",
        "            early_stop_cnt += 1\n",
        "\n",
        "        epoch += 1\n",
        "        loss_record['dev'].append(dev_mse)\n",
        "        if early_stop_cnt > config['early_stop']:\n",
        "            # Stop training if your model stops improving for \"config['early_stop']\" epochs.\n",
        "            break\n",
        "\n",
        "    print('Finished training after {} epochs'.format(epoch))\n",
        "    return min_mse, loss_record"
      ],
      "execution_count": 294,
      "outputs": []
    },
    {
      "cell_type": "markdown",
      "metadata": {
        "id": "0hSd4Bn3O2PL"
      },
      "source": [
        "## **Validation**"
      ]
    },
    {
      "cell_type": "code",
      "metadata": {
        "id": "yrxrD3YsN3U2"
      },
      "source": [
        "def dev(dv_set, model, device):\n",
        "    model.eval()                                # set model to evalutation mode\n",
        "    total_loss = 0\n",
        "    for x, y in dv_set:                         # iterate through the dataloader\n",
        "        x, y = x.to(device), y.to(device)       # move data to device (cpu/cuda)\n",
        "        with torch.no_grad():                   # disable gradient calculation\n",
        "            pred = model(x)                     # forward pass (compute output)\n",
        "            mse_loss = model.cal_loss(pred, y)  # compute loss\n",
        "        total_loss += mse_loss.detach().cpu().item() * len(x)  # accumulate loss\n",
        "    total_loss = total_loss / len(dv_set.dataset)              # compute averaged loss\n",
        "\n",
        "    return total_loss"
      ],
      "execution_count": 295,
      "outputs": []
    },
    {
      "cell_type": "markdown",
      "metadata": {
        "id": "g0pdrhQAO41L"
      },
      "source": [
        "## **Testing**"
      ]
    },
    {
      "cell_type": "code",
      "metadata": {
        "id": "aSBMRFlYN5tB"
      },
      "source": [
        "def test(tt_set, model, device):\n",
        "    model.eval()                                # set model to evalutation mode\n",
        "    preds = []\n",
        "    for x in tt_set:                            # iterate through the dataloader\n",
        "        x = x.to(device)                        # move data to device (cpu/cuda)\n",
        "        with torch.no_grad():                   # disable gradient calculation\n",
        "            pred = model(x)                     # forward pass (compute output)\n",
        "            preds.append(pred.detach().cpu())   # collect prediction\n",
        "    preds = torch.cat(preds, dim=0).numpy()     # concatenate all predictions and convert to a numpy array\n",
        "    return preds"
      ],
      "execution_count": 296,
      "outputs": []
    },
    {
      "cell_type": "markdown",
      "metadata": {
        "id": "SvckkF5dvf0j"
      },
      "source": [
        "# **Setup Hyper-parameters**\n",
        "\n",
        "`config` contains hyper-parameters for training and the path to save your model."
      ]
    },
    {
      "cell_type": "code",
      "metadata": {
        "id": "NPXpdumwPjE7"
      },
      "source": [
        "device = get_device()                 # get the current available device ('cpu' or 'cuda')\n",
        "os.makedirs('models', exist_ok=True)  # The trained model will be saved to ./models/\n",
        "target_only = True                  # TODO: Using 40 states & 2 tested_positive features 改成 True\n",
        "\n",
        "# TODO: How to tune these hyper-parameters to improve your model's performance?\n",
        "config = {\n",
        "    'n_epochs': 3000,                # maximum number of epochs\n",
        "    'batch_size': 128,               # mini-batch size for dataloader\n",
        "    'optimizer': 'SGD',              # optimization algorithm (optimizer in torch.optim)\n",
        "    'optim_hparas': {                # hyper-parameters for the optimizer (depends on which optimizer you are using)\n",
        "        'lr': 0.0001,                 # learning rate of SGD\n",
        "        'momentum': 0.9,              # momentum for SGD\n",
        "        'weight_decay': 1e-4\n",
        "    },\n",
        "    'early_stop': 200,               # early stopping epochs (the number epochs since your model's last improvement)\n",
        "    'save_path': 'models/model.pth'  # your model will be saved here\n",
        "}\n"
      ],
      "execution_count": 297,
      "outputs": []
    },
    {
      "cell_type": "markdown",
      "metadata": {
        "id": "6j1eOV3TOH-j"
      },
      "source": [
        "# **Load data and model**"
      ]
    },
    {
      "cell_type": "code",
      "metadata": {
        "colab": {
          "base_uri": "https://localhost:8080/"
        },
        "id": "eNrYBMmePLKm",
        "outputId": "afa77061-b302-456c-9fcf-96c6361b7e38"
      },
      "source": [
        "tr_set, train_mean, train_std = prep_dataloader(tr_path, 'train', config['batch_size'], target_only=target_only)\n",
        "dv_set, _, _ = prep_dataloader(tr_path, 'dev', config['batch_size'], target_only=target_only, mean=train_mean, std=train_std)\n",
        "tt_set, _, _ = prep_dataloader(tt_path, 'test', config['batch_size'], target_only=target_only, mean=train_mean, std=train_std)"
      ],
      "execution_count": 298,
      "outputs": [
        {
          "output_type": "stream",
          "name": "stdout",
          "text": [
            "Finished reading the train set of COVID19 Dataset (2430 samples found, each dim = 17)\n",
            "Finished reading the dev set of COVID19 Dataset (270 samples found, each dim = 17)\n",
            "Finished reading the test set of COVID19 Dataset (893 samples found, each dim = 17)\n"
          ]
        }
      ]
    },
    {
      "cell_type": "code",
      "metadata": {
        "id": "FHylSirLP9oh"
      },
      "source": [
        "model = NeuralNet(tr_set.dataset.dim).to(device)  # Construct model and move to device"
      ],
      "execution_count": 299,
      "outputs": []
    },
    {
      "cell_type": "markdown",
      "metadata": {
        "id": "sX2B_zgSOPTJ"
      },
      "source": [
        "# **Start Training!**"
      ]
    },
    {
      "cell_type": "code",
      "metadata": {
        "colab": {
          "base_uri": "https://localhost:8080/"
        },
        "id": "GrEbUxazQAAZ",
        "outputId": "b894ee83-9671-4a68-ab03-03a6560ae941"
      },
      "source": [
        "model_loss, model_loss_record = train(tr_set, dv_set, model, config, device)"
      ],
      "execution_count": 300,
      "outputs": [
        {
          "output_type": "stream",
          "name": "stdout",
          "text": [
            "Saving model (epoch =    1, loss = 277.5583)\n",
            "Saving model (epoch =    2, loss = 176.2284)\n",
            "Saving model (epoch =    3, loss = 102.7443)\n",
            "Saving model (epoch =    4, loss = 34.9517)\n",
            "Saving model (epoch =    5, loss = 7.4792)\n",
            "Saving model (epoch =    6, loss = 5.1711)\n",
            "Saving model (epoch =    7, loss = 3.1721)\n",
            "Saving model (epoch =    8, loss = 2.7915)\n",
            "Saving model (epoch =   10, loss = 2.3771)\n",
            "Saving model (epoch =   11, loss = 2.1342)\n",
            "Saving model (epoch =   12, loss = 2.1178)\n",
            "Saving model (epoch =   14, loss = 1.9534)\n",
            "Saving model (epoch =   16, loss = 1.8967)\n",
            "Saving model (epoch =   17, loss = 1.8263)\n",
            "Saving model (epoch =   20, loss = 1.7445)\n",
            "Saving model (epoch =   22, loss = 1.7061)\n",
            "Saving model (epoch =   26, loss = 1.6222)\n",
            "Saving model (epoch =   31, loss = 1.6181)\n",
            "Saving model (epoch =   34, loss = 1.6070)\n",
            "Saving model (epoch =   37, loss = 1.5154)\n",
            "Saving model (epoch =   43, loss = 1.4776)\n",
            "Saving model (epoch =   48, loss = 1.4407)\n",
            "Saving model (epoch =   53, loss = 1.4286)\n",
            "Saving model (epoch =   54, loss = 1.4140)\n",
            "Saving model (epoch =   56, loss = 1.3472)\n",
            "Saving model (epoch =   59, loss = 1.3161)\n",
            "Saving model (epoch =   61, loss = 1.2817)\n",
            "Saving model (epoch =   65, loss = 1.2419)\n",
            "Saving model (epoch =   78, loss = 1.1952)\n",
            "Saving model (epoch =   79, loss = 1.1564)\n",
            "Saving model (epoch =   84, loss = 1.1547)\n",
            "Saving model (epoch =   93, loss = 1.1203)\n",
            "Saving model (epoch =   99, loss = 1.1015)\n",
            "Saving model (epoch =  120, loss = 1.0866)\n",
            "Saving model (epoch =  159, loss = 1.0741)\n",
            "Saving model (epoch =  163, loss = 1.0557)\n",
            "Saving model (epoch =  218, loss = 1.0476)\n",
            "Saving model (epoch =  219, loss = 1.0435)\n",
            "Saving model (epoch =  224, loss = 1.0291)\n",
            "Saving model (epoch =  273, loss = 1.0175)\n",
            "Saving model (epoch =  293, loss = 0.9950)\n",
            "Saving model (epoch =  302, loss = 0.9930)\n",
            "Saving model (epoch =  317, loss = 0.9907)\n",
            "Saving model (epoch =  356, loss = 0.9749)\n",
            "Saving model (epoch =  389, loss = 0.9682)\n",
            "Saving model (epoch =  405, loss = 0.9626)\n",
            "Saving model (epoch =  427, loss = 0.9549)\n",
            "Saving model (epoch =  437, loss = 0.9492)\n",
            "Saving model (epoch =  457, loss = 0.9416)\n",
            "Saving model (epoch =  523, loss = 0.9140)\n",
            "Finished training after 724 epochs\n"
          ]
        }
      ]
    },
    {
      "cell_type": "code",
      "metadata": {
        "colab": {
          "base_uri": "https://localhost:8080/",
          "height": 410
        },
        "id": "hsNO9nnXQBvP",
        "outputId": "d4546216-0e49-4af4-eeaa-81f6a9bc2ea5"
      },
      "source": [
        "plot_learning_curve(model_loss_record, title='deep model')"
      ],
      "execution_count": 301,
      "outputs": [
        {
          "output_type": "display_data",
          "data": {
            "text/plain": [
              "<Figure size 600x400 with 1 Axes>"
            ],
            "image/png": "[encoded data removed]"
          },
          "metadata": {}
        }
      ]
    },
    {
      "cell_type": "code",
      "metadata": {
        "colab": {
          "base_uri": "https://localhost:8080/",
          "height": 487
        },
        "id": "3iZTVn5WQFpX",
        "outputId": "7f1c568e-d18d-4a61-8bde-0d015c07da80"
      },
      "source": [
        "del model\n",
        "model = NeuralNet(tr_set.dataset.dim).to(device)\n",
        "ckpt = torch.load(config['save_path'], map_location='cpu')  # Load your best model\n",
        "model.load_state_dict(ckpt)\n",
        "plot_pred(dv_set, model, device)  # Show prediction on the validation set"
      ],
      "execution_count": 302,
      "outputs": [
        {
          "output_type": "display_data",
          "data": {
            "text/plain": [
              "<Figure size 500x500 with 1 Axes>"
            ],
            "image/png": "[encoded data removed]"
          },
          "metadata": {}
        }
      ]
    },
    {
      "cell_type": "markdown",
      "metadata": {
        "id": "aQikz3IPiyPf"
      },
      "source": [
        "# **Testing**\n",
        "The predictions of your model on testing set will be stored at `pred.csv`."
      ]
    },
    {
      "cell_type": "code",
      "metadata": {
        "colab": {
          "base_uri": "https://localhost:8080/"
        },
        "id": "O8cTuQjQQOon",
        "outputId": "68c61708-1fd0-486c-bc45-3b9d4c6a97b4"
      },
      "source": [
        "def save_pred(preds, file):\n",
        "    ''' Save predictions to specified file '''\n",
        "    print('Saving results to {}'.format(file))\n",
        "    with open(file, 'w') as fp:\n",
        "        writer = csv.writer(fp)\n",
        "        writer.writerow(['id', 'tested_positive'])\n",
        "        for i, p in enumerate(preds):\n",
        "            writer.writerow([i, p])\n",
        "\n",
        "preds = test(tt_set, model, device)  # predict COVID-19 cases with your model\n",
        "save_pred(preds, 'pred.csv')         # save prediction file to pred.csv"
      ],
      "execution_count": null,
      "outputs": [
        {
          "output_type": "stream",
          "name": "stdout",
          "text": [
            "Saving results to pred.csv\n"
          ]
        }
      ]
    },
    {
      "cell_type": "markdown",
      "metadata": {
        "id": "nfrVxqJanGpE"
      },
      "source": [
        "# 🧪 Baseline Model Summary\n",
        "\n",
        "---\n",
        "\n",
        "## ✅ Simple Baseline\n",
        "- ✅ Ran the provided sample code successfully.\n",
        "- 🔹 This serves as the basic pipeline without optimizations or feature engineering.\n",
        "\n",
        "---\n",
        "\n",
        "## 🔸 Medium Baseline\n",
        "\n",
        "### 🔍 Feature Selection\n",
        "- Selected 40 states + 2 `tested_positive` columns.\n",
        "- Originally, `tested_positive` was marked as `TODO` in the dataset.\n",
        "- ✅ Confirmed `tested_positive` features are among the most important for prediction.\n",
        "\n",
        "---\n",
        "\n",
        "## 💪 Strong Baseline\n",
        "\n",
        "### 🔍 Feature Selection\n",
        "- Feature selection is **crucial** when training data is limited.\n",
        "- Used **ANOVA F-test (`f_classif` from `sklearn`)** to identify the most informative features beyond `tested_positive`.\n",
        "\n",
        "---\n",
        "\n",
        "### 🧠 DNN Architecture\n",
        "- ✅ **Activation**: ReLU used instead of Sigmoid.\n",
        "  - 🔹 Avoids vanishing gradients.\n",
        "  - 🔹 Accelerates training convergence.\n",
        "- ✅ **Dropout** applied:\n",
        "  - Reduces overfitting.\n",
        "  - Slightly increases training loss due to added noise.\n",
        "  - ⚠️ Should evaluate validation loss, not just training loss.\n",
        "- ⚠️ **Batch Normalization**:\n",
        "  - Not recommended together with Dropout in small models — can interfere with learning.\n",
        "  - Use one at a time unless working with larger models.\n",
        "\n",
        "---\n",
        "\n",
        "### 🏋️ Training Setup\n",
        "\n",
        "- ✅ **Mini-batch size** reduced from `270 → 128`:\n",
        "  - More stochasticity.\n",
        "  - Powers of 2 are GPU-friendly.\n",
        "- ✅ **Optimizer**:\n",
        "  - **Adam**: Converges faster but risks overfitting on small models.\n",
        "  - **SGD**: Slower, but better generalization in small-data regimes.\n",
        "- ✅ **Learning rate** tuning:\n",
        "  - Consider scheduler (e.g., cosine annealing or step decay) when using SGD.\n",
        "\n",
        "---\n",
        "\n",
        "### 🧰 Regularization\n",
        "\n",
        "- ✅ **L2 Regularization**:\n",
        "  - Implemented via `weight_decay` in optimizer (e.g., PyTorch/TF).\n",
        "  - Helps reduce model complexity and overfitting.\n",
        "\n",
        "---\n",
        "\n",
        "## ⚠️ Code Mistakes & Fixes\n",
        "\n",
        "### ❌ Target-Only Normalization\n",
        "- The sample code normalizes only the **target variable**.\n",
        "- ✅ **Fix**: Normalize **input features as well**, after feature selection.\n",
        "\n",
        "### ❌ Data Leakage in Normalization\n",
        "- Original code normalizes using **all data** (train + test) — this is **data leakage**.\n",
        "- ✅ **Fix**:\n",
        "  - Compute normalization parameters (mean, std) **from training data only**.\n",
        "  - Apply the same transformation to validation and test sets.\n",
        "\n",
        "---\n",
        "\n",
        "> ✅ Next steps: Use validation curves and ablation studies to fine-tune architecture choices.\n",
        "\n",
        "\n"
      ]
    },
    {
      "cell_type": "markdown",
      "metadata": {
        "id": "9tmCwXgpot3t"
      },
      "source": [
        "# **Reference**\n",
        "This code is completely written by Heng-Jui Chang @ NTUEE.  \n",
        "Copying or reusing this code is required to specify the original author.\n",
        "\n",
        "E.g.  \n",
        "Source: Heng-Jui Chang @ NTUEE (https://github.com/ga642381/ML2021-Spring/blob/main/HW01/HW01.ipynb)\n"
      ]
    },
    {
      "cell_type": "code",
      "source": [
        "!git --version"
      ],
      "metadata": {
        "colab": {
          "base_uri": "https://localhost:8080/"
        },
        "id": "hRH0puBpbOh8",
        "outputId": "2274b50f-a1f7-42d8-89bf-d78eb7422033"
      },
      "execution_count": 303,
      "outputs": [
        {
          "output_type": "stream",
          "name": "stdout",
          "text": [
            "git version 2.34.1\n"
          ]
        }
      ]
    },
    {
      "cell_type": "code",
      "source": [
        "!git config --global user.name \"ericsson0408\"\n",
        "!git config --global user.email \"ericsson.lahm@gmail.com\""
      ],
      "metadata": {
        "id": "Cj3Q5RH5bTmJ"
      },
      "execution_count": 304,
      "outputs": []
    },
    {
      "cell_type": "code",
      "source": [
        "!git clone https://github.com/ericsson0408/MLHW.git"
      ],
      "metadata": {
        "colab": {
          "base_uri": "https://localhost:8080/"
        },
        "id": "fkvv7A0mbmPH",
        "outputId": "a81c9928-6190-4f7f-fdd8-defdefe4ada9"
      },
      "execution_count": 305,
      "outputs": [
        {
          "output_type": "stream",
          "name": "stdout",
          "text": [
            "Cloning into 'MLHW'...\n",
            "warning: You appear to have cloned an empty repository.\n"
          ]
        }
      ]
    },
    {
      "cell_type": "code",
      "source": [
        "import nbformat\n",
        "from google.colab import drive\n",
        "\n",
        "# Save notebook to working directory\n",
        "notebook_path = 'ML2021-HW1.ipynb'\n",
        "\n",
        "with open(notebook_path, 'w') as f:\n",
        "    nbformat.write(nbformat.from_dict({\n",
        "        \"cells\": [],\n",
        "        \"metadata\": {},\n",
        "        \"nbformat\": 4,\n",
        "        \"nbformat_minor\": 0\n",
        "    }), f)"
      ],
      "metadata": {
        "id": "Upc8xcMKcgaG"
      },
      "execution_count": 310,
      "outputs": []
    },
    {
      "cell_type": "code",
      "source": [
        "cp ML2021-HW1.ipynb MLHW/"
      ],
      "metadata": {
        "id": "Nu2cRPe1bxPB"
      },
      "execution_count": 311,
      "outputs": []
    },
    {
      "cell_type": "code",
      "source": [
        "%cd MLHW\n",
        "!git add .\n",
        "!git commit -m \"Add notebook from Colab\""
      ],
      "metadata": {
        "colab": {
          "base_uri": "https://localhost:8080/"
        },
        "id": "Wj8YeOducmpk",
        "outputId": "a93cbb1d-2dac-4ad7-fca6-d6f4f9dc66af"
      },
      "execution_count": 312,
      "outputs": [
        {
          "output_type": "stream",
          "name": "stdout",
          "text": [
            "/content/MLHW\n",
            "[main (root-commit) 485d1d0] Add notebook from Colab\n",
            " 1 file changed, 6 insertions(+)\n",
            " create mode 100644 ML2021-HW1.ipynb\n"
          ]
        }
      ]
    },
    {
      "cell_type": "code",
      "source": [],
      "metadata": {
        "id": "9FXQXqyIdBwz"
      },
      "execution_count": null,
      "outputs": []
    },
    {
      "cell_type": "code",
      "source": [],
      "metadata": {
        "colab": {
          "base_uri": "https://localhost:8080/"
        },
        "id": "eTNE7vIcdFgV",
        "outputId": "e3267e10-2aa2-4f07-bcf3-dacccbd4fcb7"
      },
      "execution_count": 313,
      "outputs": [
        {
          "output_type": "stream",
          "name": "stdout",
          "text": [
            "Enumerating objects: 3, done.\n",
            "Counting objects:  33% (1/3)\rCounting objects:  66% (2/3)\rCounting objects: 100% (3/3)\rCounting objects: 100% (3/3), done.\n",
            "Delta compression using up to 2 threads\n",
            "Compressing objects:  50% (1/2)\rCompressing objects: 100% (2/2)\rCompressing objects: 100% (2/2), done.\n",
            "Writing objects:  33% (1/3)\rWriting objects:  66% (2/3)\rWriting objects: 100% (3/3)\rWriting objects: 100% (3/3), 284 bytes | 284.00 KiB/s, done.\n",
            "Total 3 (delta 0), reused 0 (delta 0), pack-reused 0\n",
            "To https://github.com/ericsson0408/MLHW.git\n",
            " * [new branch]      main -> main\n"
          ]
        }
      ]
    }
  ]
}